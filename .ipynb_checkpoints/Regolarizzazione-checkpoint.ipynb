{
 "cells": [
  {
   "cell_type": "code",
   "execution_count": 1,
   "id": "979dba64-61e6-43c6-809c-1e4f40b54197",
   "metadata": {},
   "outputs": [],
   "source": [
    "import pandas as pd\n",
    "import numpy as np\n",
    "from sklearn.linear_model import LinearRegression\n",
    "from sklearn.preprocessing import PolynomialFeatures\n",
    "from sklearn.model_selection import train_test_split\n",
    "from sklearn.metrics import mean_squared_error, r2_score\n",
    "from sklearn.preprocessing import StandardScaler"
   ]
  },
  {
   "cell_type": "code",
   "execution_count": 2,
   "id": "eb795d61-9ff3-47c7-94ad-5c62bd7d7b54",
   "metadata": {},
   "outputs": [],
   "source": [
    "boston = pd.read_csv(\"Dataset/BostonHousing.csv\")"
   ]
  },
  {
   "cell_type": "code",
   "execution_count": 3,
   "id": "fef722e8-e9cf-4665-9c3b-8eb7e15030ad",
   "metadata": {},
   "outputs": [],
   "source": [
    "X = boston.drop(\"medv\",axis=1).values"
   ]
  },
  {
   "cell_type": "code",
   "execution_count": 4,
   "id": "df6c058f-5763-4b1a-8f26-12b09ee08efd",
   "metadata": {},
   "outputs": [],
   "source": [
    "Y = boston[\"medv\"].values"
   ]
  },
  {
   "cell_type": "code",
   "execution_count": 5,
   "id": "46ff166e-0f30-4dd3-9245-75079b65eb2c",
   "metadata": {},
   "outputs": [],
   "source": [
    "X_train, X_test, Y_train, Y_test = train_test_split(X,Y, test_size=0.3, random_state=0)"
   ]
  },
  {
   "cell_type": "code",
   "execution_count": 6,
   "id": "041b853b-1941-4857-9d7c-8489c92751e3",
   "metadata": {},
   "outputs": [],
   "source": [
    "poly_feats = PolynomialFeatures(degree=2)"
   ]
  },
  {
   "cell_type": "code",
   "execution_count": 7,
   "id": "8d8e885b-9ec1-4b51-b8dc-e2df304e282b",
   "metadata": {},
   "outputs": [],
   "source": [
    "X_train_poly = poly_feats.fit_transform(X_train)"
   ]
  },
  {
   "cell_type": "code",
   "execution_count": 8,
   "id": "6f6777e5-2be6-4876-8061-38eb2de0fe6a",
   "metadata": {},
   "outputs": [],
   "source": [
    "X_test_poly = poly_feats.transform(X_test)"
   ]
  },
  {
   "cell_type": "code",
   "execution_count": 9,
   "id": "bd27b57f-1472-4797-814e-47369b20a679",
   "metadata": {},
   "outputs": [],
   "source": [
    "ss = StandardScaler()"
   ]
  },
  {
   "cell_type": "code",
   "execution_count": 10,
   "id": "72be0ea6-1554-47fc-98dd-6f12eee2d762",
   "metadata": {},
   "outputs": [],
   "source": [
    "X_train_poly = ss.fit_transform(X_train_poly)"
   ]
  },
  {
   "cell_type": "code",
   "execution_count": 11,
   "id": "7b3287d2-4c62-4246-89f4-c2f9b5acdc40",
   "metadata": {},
   "outputs": [],
   "source": [
    "X_test_poly = ss.transform(X_test_poly)"
   ]
  },
  {
   "cell_type": "code",
   "execution_count": 12,
   "id": "34889032-7172-440d-a57e-e02210ff1f3d",
   "metadata": {},
   "outputs": [],
   "source": [
    "ll = LinearRegression()"
   ]
  },
  {
   "cell_type": "code",
   "execution_count": 13,
   "id": "ccaedd3f-9cd6-477a-9449-96ccc3079eba",
   "metadata": {},
   "outputs": [
    {
     "data": {
      "text/html": [
       "<style>#sk-container-id-1 {\n",
       "  /* Definition of color scheme common for light and dark mode */\n",
       "  --sklearn-color-text: #000;\n",
       "  --sklearn-color-text-muted: #666;\n",
       "  --sklearn-color-line: gray;\n",
       "  /* Definition of color scheme for unfitted estimators */\n",
       "  --sklearn-color-unfitted-level-0: #fff5e6;\n",
       "  --sklearn-color-unfitted-level-1: #f6e4d2;\n",
       "  --sklearn-color-unfitted-level-2: #ffe0b3;\n",
       "  --sklearn-color-unfitted-level-3: chocolate;\n",
       "  /* Definition of color scheme for fitted estimators */\n",
       "  --sklearn-color-fitted-level-0: #f0f8ff;\n",
       "  --sklearn-color-fitted-level-1: #d4ebff;\n",
       "  --sklearn-color-fitted-level-2: #b3dbfd;\n",
       "  --sklearn-color-fitted-level-3: cornflowerblue;\n",
       "\n",
       "  /* Specific color for light theme */\n",
       "  --sklearn-color-text-on-default-background: var(--sg-text-color, var(--theme-code-foreground, var(--jp-content-font-color1, black)));\n",
       "  --sklearn-color-background: var(--sg-background-color, var(--theme-background, var(--jp-layout-color0, white)));\n",
       "  --sklearn-color-border-box: var(--sg-text-color, var(--theme-code-foreground, var(--jp-content-font-color1, black)));\n",
       "  --sklearn-color-icon: #696969;\n",
       "\n",
       "  @media (prefers-color-scheme: dark) {\n",
       "    /* Redefinition of color scheme for dark theme */\n",
       "    --sklearn-color-text-on-default-background: var(--sg-text-color, var(--theme-code-foreground, var(--jp-content-font-color1, white)));\n",
       "    --sklearn-color-background: var(--sg-background-color, var(--theme-background, var(--jp-layout-color0, #111)));\n",
       "    --sklearn-color-border-box: var(--sg-text-color, var(--theme-code-foreground, var(--jp-content-font-color1, white)));\n",
       "    --sklearn-color-icon: #878787;\n",
       "  }\n",
       "}\n",
       "\n",
       "#sk-container-id-1 {\n",
       "  color: var(--sklearn-color-text);\n",
       "}\n",
       "\n",
       "#sk-container-id-1 pre {\n",
       "  padding: 0;\n",
       "}\n",
       "\n",
       "#sk-container-id-1 input.sk-hidden--visually {\n",
       "  border: 0;\n",
       "  clip: rect(1px 1px 1px 1px);\n",
       "  clip: rect(1px, 1px, 1px, 1px);\n",
       "  height: 1px;\n",
       "  margin: -1px;\n",
       "  overflow: hidden;\n",
       "  padding: 0;\n",
       "  position: absolute;\n",
       "  width: 1px;\n",
       "}\n",
       "\n",
       "#sk-container-id-1 div.sk-dashed-wrapped {\n",
       "  border: 1px dashed var(--sklearn-color-line);\n",
       "  margin: 0 0.4em 0.5em 0.4em;\n",
       "  box-sizing: border-box;\n",
       "  padding-bottom: 0.4em;\n",
       "  background-color: var(--sklearn-color-background);\n",
       "}\n",
       "\n",
       "#sk-container-id-1 div.sk-container {\n",
       "  /* jupyter's `normalize.less` sets `[hidden] { display: none; }`\n",
       "     but bootstrap.min.css set `[hidden] { display: none !important; }`\n",
       "     so we also need the `!important` here to be able to override the\n",
       "     default hidden behavior on the sphinx rendered scikit-learn.org.\n",
       "     See: https://github.com/scikit-learn/scikit-learn/issues/21755 */\n",
       "  display: inline-block !important;\n",
       "  position: relative;\n",
       "}\n",
       "\n",
       "#sk-container-id-1 div.sk-text-repr-fallback {\n",
       "  display: none;\n",
       "}\n",
       "\n",
       "div.sk-parallel-item,\n",
       "div.sk-serial,\n",
       "div.sk-item {\n",
       "  /* draw centered vertical line to link estimators */\n",
       "  background-image: linear-gradient(var(--sklearn-color-text-on-default-background), var(--sklearn-color-text-on-default-background));\n",
       "  background-size: 2px 100%;\n",
       "  background-repeat: no-repeat;\n",
       "  background-position: center center;\n",
       "}\n",
       "\n",
       "/* Parallel-specific style estimator block */\n",
       "\n",
       "#sk-container-id-1 div.sk-parallel-item::after {\n",
       "  content: \"\";\n",
       "  width: 100%;\n",
       "  border-bottom: 2px solid var(--sklearn-color-text-on-default-background);\n",
       "  flex-grow: 1;\n",
       "}\n",
       "\n",
       "#sk-container-id-1 div.sk-parallel {\n",
       "  display: flex;\n",
       "  align-items: stretch;\n",
       "  justify-content: center;\n",
       "  background-color: var(--sklearn-color-background);\n",
       "  position: relative;\n",
       "}\n",
       "\n",
       "#sk-container-id-1 div.sk-parallel-item {\n",
       "  display: flex;\n",
       "  flex-direction: column;\n",
       "}\n",
       "\n",
       "#sk-container-id-1 div.sk-parallel-item:first-child::after {\n",
       "  align-self: flex-end;\n",
       "  width: 50%;\n",
       "}\n",
       "\n",
       "#sk-container-id-1 div.sk-parallel-item:last-child::after {\n",
       "  align-self: flex-start;\n",
       "  width: 50%;\n",
       "}\n",
       "\n",
       "#sk-container-id-1 div.sk-parallel-item:only-child::after {\n",
       "  width: 0;\n",
       "}\n",
       "\n",
       "/* Serial-specific style estimator block */\n",
       "\n",
       "#sk-container-id-1 div.sk-serial {\n",
       "  display: flex;\n",
       "  flex-direction: column;\n",
       "  align-items: center;\n",
       "  background-color: var(--sklearn-color-background);\n",
       "  padding-right: 1em;\n",
       "  padding-left: 1em;\n",
       "}\n",
       "\n",
       "\n",
       "/* Toggleable style: style used for estimator/Pipeline/ColumnTransformer box that is\n",
       "clickable and can be expanded/collapsed.\n",
       "- Pipeline and ColumnTransformer use this feature and define the default style\n",
       "- Estimators will overwrite some part of the style using the `sk-estimator` class\n",
       "*/\n",
       "\n",
       "/* Pipeline and ColumnTransformer style (default) */\n",
       "\n",
       "#sk-container-id-1 div.sk-toggleable {\n",
       "  /* Default theme specific background. It is overwritten whether we have a\n",
       "  specific estimator or a Pipeline/ColumnTransformer */\n",
       "  background-color: var(--sklearn-color-background);\n",
       "}\n",
       "\n",
       "/* Toggleable label */\n",
       "#sk-container-id-1 label.sk-toggleable__label {\n",
       "  cursor: pointer;\n",
       "  display: flex;\n",
       "  width: 100%;\n",
       "  margin-bottom: 0;\n",
       "  padding: 0.5em;\n",
       "  box-sizing: border-box;\n",
       "  text-align: center;\n",
       "  align-items: start;\n",
       "  justify-content: space-between;\n",
       "  gap: 0.5em;\n",
       "}\n",
       "\n",
       "#sk-container-id-1 label.sk-toggleable__label .caption {\n",
       "  font-size: 0.6rem;\n",
       "  font-weight: lighter;\n",
       "  color: var(--sklearn-color-text-muted);\n",
       "}\n",
       "\n",
       "#sk-container-id-1 label.sk-toggleable__label-arrow:before {\n",
       "  /* Arrow on the left of the label */\n",
       "  content: \"▸\";\n",
       "  float: left;\n",
       "  margin-right: 0.25em;\n",
       "  color: var(--sklearn-color-icon);\n",
       "}\n",
       "\n",
       "#sk-container-id-1 label.sk-toggleable__label-arrow:hover:before {\n",
       "  color: var(--sklearn-color-text);\n",
       "}\n",
       "\n",
       "/* Toggleable content - dropdown */\n",
       "\n",
       "#sk-container-id-1 div.sk-toggleable__content {\n",
       "  max-height: 0;\n",
       "  max-width: 0;\n",
       "  overflow: hidden;\n",
       "  text-align: left;\n",
       "  /* unfitted */\n",
       "  background-color: var(--sklearn-color-unfitted-level-0);\n",
       "}\n",
       "\n",
       "#sk-container-id-1 div.sk-toggleable__content.fitted {\n",
       "  /* fitted */\n",
       "  background-color: var(--sklearn-color-fitted-level-0);\n",
       "}\n",
       "\n",
       "#sk-container-id-1 div.sk-toggleable__content pre {\n",
       "  margin: 0.2em;\n",
       "  border-radius: 0.25em;\n",
       "  color: var(--sklearn-color-text);\n",
       "  /* unfitted */\n",
       "  background-color: var(--sklearn-color-unfitted-level-0);\n",
       "}\n",
       "\n",
       "#sk-container-id-1 div.sk-toggleable__content.fitted pre {\n",
       "  /* unfitted */\n",
       "  background-color: var(--sklearn-color-fitted-level-0);\n",
       "}\n",
       "\n",
       "#sk-container-id-1 input.sk-toggleable__control:checked~div.sk-toggleable__content {\n",
       "  /* Expand drop-down */\n",
       "  max-height: 200px;\n",
       "  max-width: 100%;\n",
       "  overflow: auto;\n",
       "}\n",
       "\n",
       "#sk-container-id-1 input.sk-toggleable__control:checked~label.sk-toggleable__label-arrow:before {\n",
       "  content: \"▾\";\n",
       "}\n",
       "\n",
       "/* Pipeline/ColumnTransformer-specific style */\n",
       "\n",
       "#sk-container-id-1 div.sk-label input.sk-toggleable__control:checked~label.sk-toggleable__label {\n",
       "  color: var(--sklearn-color-text);\n",
       "  background-color: var(--sklearn-color-unfitted-level-2);\n",
       "}\n",
       "\n",
       "#sk-container-id-1 div.sk-label.fitted input.sk-toggleable__control:checked~label.sk-toggleable__label {\n",
       "  background-color: var(--sklearn-color-fitted-level-2);\n",
       "}\n",
       "\n",
       "/* Estimator-specific style */\n",
       "\n",
       "/* Colorize estimator box */\n",
       "#sk-container-id-1 div.sk-estimator input.sk-toggleable__control:checked~label.sk-toggleable__label {\n",
       "  /* unfitted */\n",
       "  background-color: var(--sklearn-color-unfitted-level-2);\n",
       "}\n",
       "\n",
       "#sk-container-id-1 div.sk-estimator.fitted input.sk-toggleable__control:checked~label.sk-toggleable__label {\n",
       "  /* fitted */\n",
       "  background-color: var(--sklearn-color-fitted-level-2);\n",
       "}\n",
       "\n",
       "#sk-container-id-1 div.sk-label label.sk-toggleable__label,\n",
       "#sk-container-id-1 div.sk-label label {\n",
       "  /* The background is the default theme color */\n",
       "  color: var(--sklearn-color-text-on-default-background);\n",
       "}\n",
       "\n",
       "/* On hover, darken the color of the background */\n",
       "#sk-container-id-1 div.sk-label:hover label.sk-toggleable__label {\n",
       "  color: var(--sklearn-color-text);\n",
       "  background-color: var(--sklearn-color-unfitted-level-2);\n",
       "}\n",
       "\n",
       "/* Label box, darken color on hover, fitted */\n",
       "#sk-container-id-1 div.sk-label.fitted:hover label.sk-toggleable__label.fitted {\n",
       "  color: var(--sklearn-color-text);\n",
       "  background-color: var(--sklearn-color-fitted-level-2);\n",
       "}\n",
       "\n",
       "/* Estimator label */\n",
       "\n",
       "#sk-container-id-1 div.sk-label label {\n",
       "  font-family: monospace;\n",
       "  font-weight: bold;\n",
       "  display: inline-block;\n",
       "  line-height: 1.2em;\n",
       "}\n",
       "\n",
       "#sk-container-id-1 div.sk-label-container {\n",
       "  text-align: center;\n",
       "}\n",
       "\n",
       "/* Estimator-specific */\n",
       "#sk-container-id-1 div.sk-estimator {\n",
       "  font-family: monospace;\n",
       "  border: 1px dotted var(--sklearn-color-border-box);\n",
       "  border-radius: 0.25em;\n",
       "  box-sizing: border-box;\n",
       "  margin-bottom: 0.5em;\n",
       "  /* unfitted */\n",
       "  background-color: var(--sklearn-color-unfitted-level-0);\n",
       "}\n",
       "\n",
       "#sk-container-id-1 div.sk-estimator.fitted {\n",
       "  /* fitted */\n",
       "  background-color: var(--sklearn-color-fitted-level-0);\n",
       "}\n",
       "\n",
       "/* on hover */\n",
       "#sk-container-id-1 div.sk-estimator:hover {\n",
       "  /* unfitted */\n",
       "  background-color: var(--sklearn-color-unfitted-level-2);\n",
       "}\n",
       "\n",
       "#sk-container-id-1 div.sk-estimator.fitted:hover {\n",
       "  /* fitted */\n",
       "  background-color: var(--sklearn-color-fitted-level-2);\n",
       "}\n",
       "\n",
       "/* Specification for estimator info (e.g. \"i\" and \"?\") */\n",
       "\n",
       "/* Common style for \"i\" and \"?\" */\n",
       "\n",
       ".sk-estimator-doc-link,\n",
       "a:link.sk-estimator-doc-link,\n",
       "a:visited.sk-estimator-doc-link {\n",
       "  float: right;\n",
       "  font-size: smaller;\n",
       "  line-height: 1em;\n",
       "  font-family: monospace;\n",
       "  background-color: var(--sklearn-color-background);\n",
       "  border-radius: 1em;\n",
       "  height: 1em;\n",
       "  width: 1em;\n",
       "  text-decoration: none !important;\n",
       "  margin-left: 0.5em;\n",
       "  text-align: center;\n",
       "  /* unfitted */\n",
       "  border: var(--sklearn-color-unfitted-level-1) 1pt solid;\n",
       "  color: var(--sklearn-color-unfitted-level-1);\n",
       "}\n",
       "\n",
       ".sk-estimator-doc-link.fitted,\n",
       "a:link.sk-estimator-doc-link.fitted,\n",
       "a:visited.sk-estimator-doc-link.fitted {\n",
       "  /* fitted */\n",
       "  border: var(--sklearn-color-fitted-level-1) 1pt solid;\n",
       "  color: var(--sklearn-color-fitted-level-1);\n",
       "}\n",
       "\n",
       "/* On hover */\n",
       "div.sk-estimator:hover .sk-estimator-doc-link:hover,\n",
       ".sk-estimator-doc-link:hover,\n",
       "div.sk-label-container:hover .sk-estimator-doc-link:hover,\n",
       ".sk-estimator-doc-link:hover {\n",
       "  /* unfitted */\n",
       "  background-color: var(--sklearn-color-unfitted-level-3);\n",
       "  color: var(--sklearn-color-background);\n",
       "  text-decoration: none;\n",
       "}\n",
       "\n",
       "div.sk-estimator.fitted:hover .sk-estimator-doc-link.fitted:hover,\n",
       ".sk-estimator-doc-link.fitted:hover,\n",
       "div.sk-label-container:hover .sk-estimator-doc-link.fitted:hover,\n",
       ".sk-estimator-doc-link.fitted:hover {\n",
       "  /* fitted */\n",
       "  background-color: var(--sklearn-color-fitted-level-3);\n",
       "  color: var(--sklearn-color-background);\n",
       "  text-decoration: none;\n",
       "}\n",
       "\n",
       "/* Span, style for the box shown on hovering the info icon */\n",
       ".sk-estimator-doc-link span {\n",
       "  display: none;\n",
       "  z-index: 9999;\n",
       "  position: relative;\n",
       "  font-weight: normal;\n",
       "  right: .2ex;\n",
       "  padding: .5ex;\n",
       "  margin: .5ex;\n",
       "  width: min-content;\n",
       "  min-width: 20ex;\n",
       "  max-width: 50ex;\n",
       "  color: var(--sklearn-color-text);\n",
       "  box-shadow: 2pt 2pt 4pt #999;\n",
       "  /* unfitted */\n",
       "  background: var(--sklearn-color-unfitted-level-0);\n",
       "  border: .5pt solid var(--sklearn-color-unfitted-level-3);\n",
       "}\n",
       "\n",
       ".sk-estimator-doc-link.fitted span {\n",
       "  /* fitted */\n",
       "  background: var(--sklearn-color-fitted-level-0);\n",
       "  border: var(--sklearn-color-fitted-level-3);\n",
       "}\n",
       "\n",
       ".sk-estimator-doc-link:hover span {\n",
       "  display: block;\n",
       "}\n",
       "\n",
       "/* \"?\"-specific style due to the `<a>` HTML tag */\n",
       "\n",
       "#sk-container-id-1 a.estimator_doc_link {\n",
       "  float: right;\n",
       "  font-size: 1rem;\n",
       "  line-height: 1em;\n",
       "  font-family: monospace;\n",
       "  background-color: var(--sklearn-color-background);\n",
       "  border-radius: 1rem;\n",
       "  height: 1rem;\n",
       "  width: 1rem;\n",
       "  text-decoration: none;\n",
       "  /* unfitted */\n",
       "  color: var(--sklearn-color-unfitted-level-1);\n",
       "  border: var(--sklearn-color-unfitted-level-1) 1pt solid;\n",
       "}\n",
       "\n",
       "#sk-container-id-1 a.estimator_doc_link.fitted {\n",
       "  /* fitted */\n",
       "  border: var(--sklearn-color-fitted-level-1) 1pt solid;\n",
       "  color: var(--sklearn-color-fitted-level-1);\n",
       "}\n",
       "\n",
       "/* On hover */\n",
       "#sk-container-id-1 a.estimator_doc_link:hover {\n",
       "  /* unfitted */\n",
       "  background-color: var(--sklearn-color-unfitted-level-3);\n",
       "  color: var(--sklearn-color-background);\n",
       "  text-decoration: none;\n",
       "}\n",
       "\n",
       "#sk-container-id-1 a.estimator_doc_link.fitted:hover {\n",
       "  /* fitted */\n",
       "  background-color: var(--sklearn-color-fitted-level-3);\n",
       "}\n",
       "</style><div id=\"sk-container-id-1\" class=\"sk-top-container\"><div class=\"sk-text-repr-fallback\"><pre>LinearRegression()</pre><b>In a Jupyter environment, please rerun this cell to show the HTML representation or trust the notebook. <br />On GitHub, the HTML representation is unable to render, please try loading this page with nbviewer.org.</b></div><div class=\"sk-container\" hidden><div class=\"sk-item\"><div class=\"sk-estimator fitted sk-toggleable\"><input class=\"sk-toggleable__control sk-hidden--visually\" id=\"sk-estimator-id-1\" type=\"checkbox\" checked><label for=\"sk-estimator-id-1\" class=\"sk-toggleable__label fitted sk-toggleable__label-arrow\"><div><div>LinearRegression</div></div><div><a class=\"sk-estimator-doc-link fitted\" rel=\"noreferrer\" target=\"_blank\" href=\"https://scikit-learn.org/1.6/modules/generated/sklearn.linear_model.LinearRegression.html\">?<span>Documentation for LinearRegression</span></a><span class=\"sk-estimator-doc-link fitted\">i<span>Fitted</span></span></div></label><div class=\"sk-toggleable__content fitted\"><pre>LinearRegression()</pre></div> </div></div></div></div>"
      ],
      "text/plain": [
       "LinearRegression()"
      ]
     },
     "execution_count": 13,
     "metadata": {},
     "output_type": "execute_result"
    }
   ],
   "source": [
    "ll.fit(X_train_poly, Y_train)"
   ]
  },
  {
   "cell_type": "markdown",
   "id": "dee1abe1-9049-46d8-b87c-24f806488187",
   "metadata": {},
   "source": [
    "## Calcoliamo errore sul Train Set"
   ]
  },
  {
   "cell_type": "code",
   "execution_count": 14,
   "id": "f08b8bf0-bfa1-49e8-978c-521ef67a2626",
   "metadata": {},
   "outputs": [],
   "source": [
    "Y_pred_train = ll.predict(X_train_poly)"
   ]
  },
  {
   "cell_type": "code",
   "execution_count": 15,
   "id": "44183694-401e-40d0-bb8c-115a5cd29ba6",
   "metadata": {},
   "outputs": [],
   "source": [
    "mse = mean_squared_error(Y_train, Y_pred_train)"
   ]
  },
  {
   "cell_type": "code",
   "execution_count": 16,
   "id": "0d4200b4-4486-4b0b-942e-8a91cb5cf7e9",
   "metadata": {},
   "outputs": [],
   "source": [
    "r2 = r2_score(Y_train, Y_pred_train)"
   ]
  },
  {
   "cell_type": "code",
   "execution_count": 17,
   "id": "6f20607b-eab3-42a1-9a69-837e6e4947d8",
   "metadata": {},
   "outputs": [
    {
     "name": "stdout",
     "output_type": "stream",
     "text": [
      "MSE=4.0920343304759585\n"
     ]
    }
   ],
   "source": [
    "print(\"MSE=\"+str(mse))"
   ]
  },
  {
   "cell_type": "code",
   "execution_count": 18,
   "id": "49cee8de-bd92-4510-91b2-00bd75c19d2c",
   "metadata": {},
   "outputs": [
    {
     "name": "stdout",
     "output_type": "stream",
     "text": [
      "R2=0.9517246762476053\n"
     ]
    }
   ],
   "source": [
    "print(\"R2=\"+str(r2))"
   ]
  },
  {
   "cell_type": "markdown",
   "id": "d73b3b1a-b394-42ae-ae18-4b5b2615d8e8",
   "metadata": {},
   "source": [
    "## Calcoliamo errore sul Test Set"
   ]
  },
  {
   "cell_type": "code",
   "execution_count": 19,
   "id": "a82dd4a5-4475-41e0-b40b-0cda644ea33d",
   "metadata": {},
   "outputs": [],
   "source": [
    "Y_pred_test = ll.predict(X_test_poly)"
   ]
  },
  {
   "cell_type": "code",
   "execution_count": 20,
   "id": "3827a152-3e9b-4379-8031-256230a24e1f",
   "metadata": {},
   "outputs": [],
   "source": [
    "mse = mean_squared_error(Y_test, Y_pred_test)"
   ]
  },
  {
   "cell_type": "code",
   "execution_count": 21,
   "id": "5cfdd531-2107-4eba-bbe7-b0b9d673d842",
   "metadata": {},
   "outputs": [],
   "source": [
    "r2 = r2_score(Y_test, Y_pred_test)"
   ]
  },
  {
   "cell_type": "code",
   "execution_count": 22,
   "id": "c21594cb-3876-4bc7-ab98-d24cb92ee30c",
   "metadata": {},
   "outputs": [
    {
     "name": "stdout",
     "output_type": "stream",
     "text": [
      "MSE=29.25250713919841\n"
     ]
    }
   ],
   "source": [
    "print(\"MSE=\"+str(mse))"
   ]
  },
  {
   "cell_type": "code",
   "execution_count": 23,
   "id": "cecb0483-25d4-4c03-bfac-2fb19c24ec4f",
   "metadata": {},
   "outputs": [
    {
     "name": "stdout",
     "output_type": "stream",
     "text": [
      "R2=0.6486839499987875\n"
     ]
    }
   ],
   "source": [
    "print(\"R2=\"+str(r2))"
   ]
  },
  {
   "cell_type": "markdown",
   "id": "19908717-32d5-49f7-9dbb-e650673168c3",
   "metadata": {},
   "source": [
    "## Regolarizzazione L2"
   ]
  },
  {
   "cell_type": "code",
   "execution_count": 24,
   "id": "3a804fef-6a38-48ad-ace9-0813578d2aad",
   "metadata": {},
   "outputs": [],
   "source": [
    "from sklearn.linear_model import Ridge"
   ]
  },
  {
   "cell_type": "code",
   "execution_count": 25,
   "id": "124ee83f-51ab-4660-8305-692cdda9e7b3",
   "metadata": {},
   "outputs": [],
   "source": [
    "alphas = [0.0001, 0.001, 0.01, 0.1, 1., 10.]"
   ]
  },
  {
   "cell_type": "code",
   "execution_count": 27,
   "id": "e3621fff-be60-436e-be12-4a79e8714e99",
   "metadata": {},
   "outputs": [
    {
     "name": "stdout",
     "output_type": "stream",
     "text": [
      "ALPHA:0.0001\n",
      "Train set: MSE=4.099263404861015 R2=0.9516393920397556\n",
      "Test set: MSE=28.91761846388228 R2=0.6527058878806365\n",
      "ALPHA:0.001\n",
      "Train set: MSE=4.113502509943374 R2=0.9514714077678066\n",
      "Test set: MSE=28.42000926765981 R2=0.6586820627236776\n",
      "ALPHA:0.01\n",
      "Train set: MSE=4.20820612723713 R2=0.9503541522865098\n",
      "Test set: MSE=26.813295018285196 R2=0.6779783405054398\n",
      "ALPHA:0.1\n",
      "Train set: MSE=4.747028830953483 R2=0.9439974508597107\n",
      "Test set: MSE=23.631755117381356 R2=0.7161879211608029\n",
      "ALPHA:1.0\n",
      "Train set: MSE=5.875947305341835 R2=0.9306791596529947\n",
      "Test set: MSE=17.63458462753178 R2=0.7882125937009058\n",
      "ALPHA:10.0\n",
      "Train set: MSE=8.812755521737843 R2=0.8960324885854234\n",
      "Test set: MSE=17.159715774774178 R2=0.7939156621191289\n"
     ]
    }
   ],
   "source": [
    "for alpha in alphas:\n",
    "    print(\"ALPHA:\"+str(alpha))\n",
    "    model = Ridge(alpha=alpha)\n",
    "    model.fit(X_train_poly, Y_train)\n",
    "\n",
    "    Y_pred_train = model.predict(X_train_poly)\n",
    "    Y_pred_test = model.predict(X_test_poly)\n",
    "\n",
    "    mse_train = mean_squared_error(Y_train, Y_pred_train)\n",
    "    mse_test = mean_squared_error(Y_test, Y_pred_test)\n",
    "\n",
    "    r2_train = r2_score(Y_train, Y_pred_train)\n",
    "    r2_test = r2_score(Y_test, Y_pred_test)\n",
    "\n",
    "    print(\"Train set: MSE=\"+str(mse_train)+\" R2=\"+str(r2_train))\n",
    "    print(\"Test set: MSE=\"+str(mse_test)+\" R2=\"+str(r2_test))"
   ]
  },
  {
   "cell_type": "markdown",
   "id": "42e85e14-081d-497b-a240-b2e3e6607737",
   "metadata": {},
   "source": [
    "## Regolarizzazione L1"
   ]
  },
  {
   "cell_type": "markdown",
   "id": "44dbda14-f05e-4abd-a389-6b45689ebf4d",
   "metadata": {},
   "source": [
    "### Porta a 0 pesi meno importanti"
   ]
  },
  {
   "cell_type": "code",
   "execution_count": 29,
   "id": "d7c34bc5-6425-46d6-8398-e2d8a5322d40",
   "metadata": {},
   "outputs": [],
   "source": [
    "from sklearn.linear_model import Lasso"
   ]
  },
  {
   "cell_type": "code",
   "execution_count": 30,
   "id": "cca62f8c-7c37-4089-ade4-f90ac9bd78d1",
   "metadata": {},
   "outputs": [
    {
     "name": "stdout",
     "output_type": "stream",
     "text": [
      "ALPHA:0.0001\n",
      "Train set: MSE=5.3911236526970985 R2=0.9363988132296843\n",
      "Test set: MSE=29.701776720600673 R2=0.6432883230881478\n",
      "ALPHA:0.001\n",
      "Train set: MSE=5.407317548867132 R2=0.936207767525449\n",
      "Test set: MSE=28.788018557306582 R2=0.6542623536919956\n",
      "ALPHA:0.01\n",
      "Train set: MSE=6.063858816900318 R2=0.9284622943178908\n",
      "Test set: MSE=22.93324201265634 R2=0.7245769068863115\n",
      "ALPHA:0.1\n",
      "Train set: MSE=11.833211121207535 R2=0.8603989967405071\n",
      "Test set: MSE=19.29615234281638 R2=0.7682575380960781\n",
      "ALPHA:1.0\n",
      "Train set: MSE=21.590985067091978 R2=0.7452827346818105\n",
      "Test set: MSE=27.258043145129136 R2=0.6726370152499754\n",
      "ALPHA:10.0\n",
      "Train set: MSE=84.76451346994796 R2=0.0\n",
      "Test set: MSE=83.76673764512785 R2=-0.0060197319476869016\n"
     ]
    },
    {
     "name": "stderr",
     "output_type": "stream",
     "text": [
      "C:\\Users\\cotto\\AppData\\Local\\Packages\\PythonSoftwareFoundation.Python.3.13_qbz5n2kfra8p0\\LocalCache\\local-packages\\Python313\\site-packages\\sklearn\\linear_model\\_coordinate_descent.py:695: ConvergenceWarning: Objective did not converge. You might want to increase the number of iterations, check the scale of the features or consider increasing regularisation. Duality gap: 9.490e+02, tolerance: 3.001e+00\n",
      "  model = cd_fast.enet_coordinate_descent(\n",
      "C:\\Users\\cotto\\AppData\\Local\\Packages\\PythonSoftwareFoundation.Python.3.13_qbz5n2kfra8p0\\LocalCache\\local-packages\\Python313\\site-packages\\sklearn\\linear_model\\_coordinate_descent.py:695: ConvergenceWarning: Objective did not converge. You might want to increase the number of iterations, check the scale of the features or consider increasing regularisation. Duality gap: 8.866e+02, tolerance: 3.001e+00\n",
      "  model = cd_fast.enet_coordinate_descent(\n",
      "C:\\Users\\cotto\\AppData\\Local\\Packages\\PythonSoftwareFoundation.Python.3.13_qbz5n2kfra8p0\\LocalCache\\local-packages\\Python313\\site-packages\\sklearn\\linear_model\\_coordinate_descent.py:695: ConvergenceWarning: Objective did not converge. You might want to increase the number of iterations, check the scale of the features or consider increasing regularisation. Duality gap: 5.049e+02, tolerance: 3.001e+00\n",
      "  model = cd_fast.enet_coordinate_descent(\n"
     ]
    }
   ],
   "source": [
    "for alpha in alphas:\n",
    "    print(\"ALPHA:\"+str(alpha))\n",
    "    model = Lasso(alpha=alpha)\n",
    "    model.fit(X_train_poly, Y_train)\n",
    "\n",
    "    Y_pred_train = model.predict(X_train_poly)\n",
    "    Y_pred_test = model.predict(X_test_poly)\n",
    "\n",
    "    mse_train = mean_squared_error(Y_train, Y_pred_train)\n",
    "    mse_test = mean_squared_error(Y_test, Y_pred_test)\n",
    "\n",
    "    r2_train = r2_score(Y_train, Y_pred_train)\n",
    "    r2_test = r2_score(Y_test, Y_pred_test)\n",
    "\n",
    "    print(\"Train set: MSE=\"+str(mse_train)+\" R2=\"+str(r2_train))\n",
    "    print(\"Test set: MSE=\"+str(mse_test)+\" R2=\"+str(r2_test))"
   ]
  },
  {
   "cell_type": "markdown",
   "id": "b2f66fe4-f945-4772-817f-5882036ca4ee",
   "metadata": {},
   "source": [
    "## Regolarizzazione L2 è migliore della L1"
   ]
  },
  {
   "cell_type": "markdown",
   "id": "3cf40c4a-1972-4faa-b1fd-428b3b8651cd",
   "metadata": {},
   "source": [
    "### Meglio utilizzarle entrambi! Con ElasticNet"
   ]
  },
  {
   "cell_type": "markdown",
   "id": "4e0238ed-4deb-4edf-81fe-5a312a72294a",
   "metadata": {},
   "source": [
    "### I valori devono essere sulla stessa scala Normalizzazione o Standardizzazione"
   ]
  },
  {
   "cell_type": "code",
   "execution_count": null,
   "id": "c5033ee9-ca41-4d92-9f4c-464b0a3902d1",
   "metadata": {},
   "outputs": [],
   "source": []
  }
 ],
 "metadata": {
  "kernelspec": {
   "display_name": "Python 3 (ipykernel)",
   "language": "python",
   "name": "python3"
  },
  "language_info": {
   "codemirror_mode": {
    "name": "ipython",
    "version": 3
   },
   "file_extension": ".py",
   "mimetype": "text/x-python",
   "name": "python",
   "nbconvert_exporter": "python",
   "pygments_lexer": "ipython3",
   "version": "3.13.3"
  }
 },
 "nbformat": 4,
 "nbformat_minor": 5
}
