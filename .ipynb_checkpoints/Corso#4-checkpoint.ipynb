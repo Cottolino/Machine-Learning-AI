{
 "cells": [
  {
   "cell_type": "code",
   "execution_count": 2,
   "id": "6edf9f41-df98-4122-a3e7-bd1aaa073828",
   "metadata": {},
   "outputs": [],
   "source": [
    "import pandas as pd"
   ]
  },
  {
   "cell_type": "code",
   "execution_count": 3,
   "id": "c77abe33-bcdb-402b-ba54-5956adb83214",
   "metadata": {},
   "outputs": [],
   "source": [
    "import numpy as np"
   ]
  },
  {
   "cell_type": "code",
   "execution_count": 6,
   "id": "5f26c7d7-cb29-4bbb-937f-d3c20a3bfdf7",
   "metadata": {},
   "outputs": [],
   "source": [
    "wines = pd.read_csv(\"wine.csv\", usecols=[0,1,7], names=[\"classe\",\"alcol\",\"flavonoidi\"])"
   ]
  },
  {
   "cell_type": "code",
   "execution_count": 7,
   "id": "ad55e104-5439-4913-9bfc-ff6a0f5b81b0",
   "metadata": {},
   "outputs": [
    {
     "data": {
      "text/html": [
       "<div>\n",
       "<style scoped>\n",
       "    .dataframe tbody tr th:only-of-type {\n",
       "        vertical-align: middle;\n",
       "    }\n",
       "\n",
       "    .dataframe tbody tr th {\n",
       "        vertical-align: top;\n",
       "    }\n",
       "\n",
       "    .dataframe thead th {\n",
       "        text-align: right;\n",
       "    }\n",
       "</style>\n",
       "<table border=\"1\" class=\"dataframe\">\n",
       "  <thead>\n",
       "    <tr style=\"text-align: right;\">\n",
       "      <th></th>\n",
       "      <th>classe</th>\n",
       "      <th>alcol</th>\n",
       "      <th>flavonoidi</th>\n",
       "    </tr>\n",
       "  </thead>\n",
       "  <tbody>\n",
       "    <tr>\n",
       "      <th>0</th>\n",
       "      <td>Wine</td>\n",
       "      <td>Alcohol</td>\n",
       "      <td>Flavanoids</td>\n",
       "    </tr>\n",
       "    <tr>\n",
       "      <th>1</th>\n",
       "      <td>1</td>\n",
       "      <td>14.23</td>\n",
       "      <td>3.06</td>\n",
       "    </tr>\n",
       "    <tr>\n",
       "      <th>2</th>\n",
       "      <td>1</td>\n",
       "      <td>13.2</td>\n",
       "      <td>2.76</td>\n",
       "    </tr>\n",
       "    <tr>\n",
       "      <th>3</th>\n",
       "      <td>1</td>\n",
       "      <td>13.16</td>\n",
       "      <td>3.24</td>\n",
       "    </tr>\n",
       "    <tr>\n",
       "      <th>4</th>\n",
       "      <td>1</td>\n",
       "      <td>14.37</td>\n",
       "      <td>3.49</td>\n",
       "    </tr>\n",
       "  </tbody>\n",
       "</table>\n",
       "</div>"
      ],
      "text/plain": [
       "  classe    alcol  flavonoidi\n",
       "0   Wine  Alcohol  Flavanoids\n",
       "1      1    14.23        3.06\n",
       "2      1     13.2        2.76\n",
       "3      1    13.16        3.24\n",
       "4      1    14.37        3.49"
      ]
     },
     "execution_count": 7,
     "metadata": {},
     "output_type": "execute_result"
    }
   ],
   "source": [
    "wines.head()"
   ]
  },
  {
   "cell_type": "code",
   "execution_count": 8,
   "id": "b697fc69-cf0d-4c5c-900a-cf388e72e8b3",
   "metadata": {},
   "outputs": [],
   "source": [
    "Y = wines[\"classe\"].values"
   ]
  },
  {
   "cell_type": "code",
   "execution_count": 9,
   "id": "e7d9e40d-828e-410a-ba26-0c2a2277fa9b",
   "metadata": {},
   "outputs": [],
   "source": [
    "X = wines.drop(\"classe\",axis=1).values"
   ]
  },
  {
   "cell_type": "code",
   "execution_count": null,
   "id": "db0dafcf-41ad-4f5b-a6fe-750235b43c7a",
   "metadata": {},
   "outputs": [],
   "source": []
  },
  {
   "cell_type": "code",
   "execution_count": 11,
   "id": "6ffa2c63-2e8e-4663-8a3a-3c2475e1cb08",
   "metadata": {},
   "outputs": [
    {
     "name": "stdout",
     "output_type": "stream",
     "text": [
      "['Wine' '1' '1' '1' '1' '1' '1' '1' '1' '1' '1' '1' '1' '1' '1' '1' '1'\n",
      " '1' '1' '1' '1' '1' '1' '1' '1' '1' '1' '1' '1' '1' '1' '1' '1' '1' '1'\n",
      " '1' '1' '1' '1' '1' '1' '1' '1' '1' '1' '1' '1' '1' '1' '1' '1' '1' '1'\n",
      " '1' '1' '1' '1' '1' '1' '1' '2' '2' '2' '2' '2' '2' '2' '2' '2' '2' '2'\n",
      " '2' '2' '2' '2' '2' '2' '2' '2' '2' '2' '2' '2' '2' '2' '2' '2' '2' '2'\n",
      " '2' '2' '2' '2' '2' '2' '2' '2' '2' '2' '2' '2' '2' '2' '2' '2' '2' '2'\n",
      " '2' '2' '2' '2' '2' '2' '2' '2' '2' '2' '2' '2' '2' '2' '2' '2' '2' '2'\n",
      " '2' '2' '2' '2' '2' '2' '3' '3' '3' '3' '3' '3' '3' '3' '3' '3' '3' '3'\n",
      " '3' '3' '3' '3' '3' '3' '3' '3' '3' '3' '3' '3' '3' '3' '3' '3' '3' '3'\n",
      " '3' '3' '3' '3' '3' '3' '3' '3' '3' '3' '3' '3' '3' '3' '3' '3' '3' '3']\n"
     ]
    }
   ],
   "source": [
    "print(Y)"
   ]
  },
  {
   "cell_type": "code",
   "execution_count": 12,
   "id": "3197b890-796a-4a90-9cb3-7c07c6705b8a",
   "metadata": {
    "scrolled": true
   },
   "outputs": [
    {
     "data": {
      "text/html": [
       "<div>\n",
       "<style scoped>\n",
       "    .dataframe tbody tr th:only-of-type {\n",
       "        vertical-align: middle;\n",
       "    }\n",
       "\n",
       "    .dataframe tbody tr th {\n",
       "        vertical-align: top;\n",
       "    }\n",
       "\n",
       "    .dataframe thead th {\n",
       "        text-align: right;\n",
       "    }\n",
       "</style>\n",
       "<table border=\"1\" class=\"dataframe\">\n",
       "  <thead>\n",
       "    <tr style=\"text-align: right;\">\n",
       "      <th></th>\n",
       "      <th>classe</th>\n",
       "      <th>alcol</th>\n",
       "      <th>flavonoidi</th>\n",
       "    </tr>\n",
       "  </thead>\n",
       "  <tbody>\n",
       "    <tr>\n",
       "      <th>count</th>\n",
       "      <td>179</td>\n",
       "      <td>179</td>\n",
       "      <td>179</td>\n",
       "    </tr>\n",
       "    <tr>\n",
       "      <th>unique</th>\n",
       "      <td>4</td>\n",
       "      <td>127</td>\n",
       "      <td>133</td>\n",
       "    </tr>\n",
       "    <tr>\n",
       "      <th>top</th>\n",
       "      <td>2</td>\n",
       "      <td>13.05</td>\n",
       "      <td>2.65</td>\n",
       "    </tr>\n",
       "    <tr>\n",
       "      <th>freq</th>\n",
       "      <td>71</td>\n",
       "      <td>6</td>\n",
       "      <td>4</td>\n",
       "    </tr>\n",
       "  </tbody>\n",
       "</table>\n",
       "</div>"
      ],
      "text/plain": [
       "       classe  alcol flavonoidi\n",
       "count     179    179        179\n",
       "unique      4    127        133\n",
       "top         2  13.05       2.65\n",
       "freq       71      6          4"
      ]
     },
     "execution_count": 12,
     "metadata": {},
     "output_type": "execute_result"
    }
   ],
   "source": [
    "wines.describe()"
   ]
  },
  {
   "cell_type": "code",
   "execution_count": 14,
   "id": "79352389-2804-4235-84aa-2e83b8fe6140",
   "metadata": {},
   "outputs": [],
   "source": [
    "wines_norm = wines.copy()"
   ]
  },
  {
   "cell_type": "code",
   "execution_count": 15,
   "id": "874836ac-ec96-465f-b984-0b8135508cc9",
   "metadata": {},
   "outputs": [],
   "source": [
    "features = [\"alcol\",\"flavonoidi\"]"
   ]
  },
  {
   "cell_type": "code",
   "execution_count": 16,
   "id": "c15e99b8-e51c-4fa2-8b62-0b37515e0379",
   "metadata": {},
   "outputs": [],
   "source": [
    "to_norm = wines[features]"
   ]
  },
  {
   "cell_type": "code",
   "execution_count": 18,
   "id": "11b85fa8-562a-4412-bffb-614ca2f752b4",
   "metadata": {},
   "outputs": [
    {
     "data": {
      "text/html": [
       "<div>\n",
       "<style scoped>\n",
       "    .dataframe tbody tr th:only-of-type {\n",
       "        vertical-align: middle;\n",
       "    }\n",
       "\n",
       "    .dataframe tbody tr th {\n",
       "        vertical-align: top;\n",
       "    }\n",
       "\n",
       "    .dataframe thead th {\n",
       "        text-align: right;\n",
       "    }\n",
       "</style>\n",
       "<table border=\"1\" class=\"dataframe\">\n",
       "  <thead>\n",
       "    <tr style=\"text-align: right;\">\n",
       "      <th></th>\n",
       "      <th>alcol</th>\n",
       "      <th>flavonoidi</th>\n",
       "    </tr>\n",
       "  </thead>\n",
       "  <tbody>\n",
       "    <tr>\n",
       "      <th>0</th>\n",
       "      <td>Alcohol</td>\n",
       "      <td>Flavanoids</td>\n",
       "    </tr>\n",
       "    <tr>\n",
       "      <th>1</th>\n",
       "      <td>14.23</td>\n",
       "      <td>3.06</td>\n",
       "    </tr>\n",
       "    <tr>\n",
       "      <th>2</th>\n",
       "      <td>13.2</td>\n",
       "      <td>2.76</td>\n",
       "    </tr>\n",
       "    <tr>\n",
       "      <th>3</th>\n",
       "      <td>13.16</td>\n",
       "      <td>3.24</td>\n",
       "    </tr>\n",
       "    <tr>\n",
       "      <th>4</th>\n",
       "      <td>14.37</td>\n",
       "      <td>3.49</td>\n",
       "    </tr>\n",
       "  </tbody>\n",
       "</table>\n",
       "</div>"
      ],
      "text/plain": [
       "     alcol  flavonoidi\n",
       "0  Alcohol  Flavanoids\n",
       "1    14.23        3.06\n",
       "2     13.2        2.76\n",
       "3    13.16        3.24\n",
       "4    14.37        3.49"
      ]
     },
     "execution_count": 18,
     "metadata": {},
     "output_type": "execute_result"
    }
   ],
   "source": [
    "to_norm.head()"
   ]
  },
  {
   "cell_type": "code",
   "execution_count": 19,
   "id": "044c3815-0e23-4c8f-ab65-2af39defb904",
   "metadata": {},
   "outputs": [
    {
     "data": {
      "text/plain": [
       "alcol         11.03\n",
       "flavonoidi      .34\n",
       "dtype: object"
      ]
     },
     "execution_count": 19,
     "metadata": {},
     "output_type": "execute_result"
    }
   ],
   "source": [
    "to_norm.min()"
   ]
  },
  {
   "cell_type": "code",
   "execution_count": 20,
   "id": "2a82da5d-6c9c-4520-8230-139f8308601a",
   "metadata": {},
   "outputs": [
    {
     "data": {
      "text/plain": [
       "alcol            Alcohol\n",
       "flavonoidi    Flavanoids\n",
       "dtype: object"
      ]
     },
     "execution_count": 20,
     "metadata": {},
     "output_type": "execute_result"
    }
   ],
   "source": [
    "to_norm.max()"
   ]
  },
  {
   "cell_type": "code",
   "execution_count": 23,
   "id": "8d392167-990a-4466-9548-c306a10e2b18",
   "metadata": {},
   "outputs": [],
   "source": [
    "to_norm = to_norm.drop(0,axis=0)"
   ]
  },
  {
   "cell_type": "code",
   "execution_count": 24,
   "id": "9bf2365a-d26a-45a9-9a93-aabfb968fd9c",
   "metadata": {},
   "outputs": [
    {
     "data": {
      "text/html": [
       "<div>\n",
       "<style scoped>\n",
       "    .dataframe tbody tr th:only-of-type {\n",
       "        vertical-align: middle;\n",
       "    }\n",
       "\n",
       "    .dataframe tbody tr th {\n",
       "        vertical-align: top;\n",
       "    }\n",
       "\n",
       "    .dataframe thead th {\n",
       "        text-align: right;\n",
       "    }\n",
       "</style>\n",
       "<table border=\"1\" class=\"dataframe\">\n",
       "  <thead>\n",
       "    <tr style=\"text-align: right;\">\n",
       "      <th></th>\n",
       "      <th>alcol</th>\n",
       "      <th>flavonoidi</th>\n",
       "    </tr>\n",
       "  </thead>\n",
       "  <tbody>\n",
       "    <tr>\n",
       "      <th>1</th>\n",
       "      <td>14.23</td>\n",
       "      <td>3.06</td>\n",
       "    </tr>\n",
       "    <tr>\n",
       "      <th>2</th>\n",
       "      <td>13.2</td>\n",
       "      <td>2.76</td>\n",
       "    </tr>\n",
       "    <tr>\n",
       "      <th>3</th>\n",
       "      <td>13.16</td>\n",
       "      <td>3.24</td>\n",
       "    </tr>\n",
       "    <tr>\n",
       "      <th>4</th>\n",
       "      <td>14.37</td>\n",
       "      <td>3.49</td>\n",
       "    </tr>\n",
       "    <tr>\n",
       "      <th>5</th>\n",
       "      <td>13.24</td>\n",
       "      <td>2.69</td>\n",
       "    </tr>\n",
       "  </tbody>\n",
       "</table>\n",
       "</div>"
      ],
      "text/plain": [
       "   alcol flavonoidi\n",
       "1  14.23       3.06\n",
       "2   13.2       2.76\n",
       "3  13.16       3.24\n",
       "4  14.37       3.49\n",
       "5  13.24       2.69"
      ]
     },
     "execution_count": 24,
     "metadata": {},
     "output_type": "execute_result"
    }
   ],
   "source": [
    "to_norm.head()"
   ]
  },
  {
   "cell_type": "code",
   "execution_count": 25,
   "id": "6a92494c-bcb3-47ff-826f-2b4e8c3c46bf",
   "metadata": {},
   "outputs": [
    {
     "data": {
      "text/plain": [
       "alcol         14.83\n",
       "flavonoidi     5.08\n",
       "dtype: object"
      ]
     },
     "execution_count": 25,
     "metadata": {},
     "output_type": "execute_result"
    }
   ],
   "source": [
    "to_norm.max()"
   ]
  },
  {
   "cell_type": "code",
   "execution_count": 28,
   "id": "e71fdea5-b89f-4131-9a73-283888c7f52f",
   "metadata": {},
   "outputs": [
    {
     "data": {
      "text/html": [
       "<div>\n",
       "<style scoped>\n",
       "    .dataframe tbody tr th:only-of-type {\n",
       "        vertical-align: middle;\n",
       "    }\n",
       "\n",
       "    .dataframe tbody tr th {\n",
       "        vertical-align: top;\n",
       "    }\n",
       "\n",
       "    .dataframe thead th {\n",
       "        text-align: right;\n",
       "    }\n",
       "</style>\n",
       "<table border=\"1\" class=\"dataframe\">\n",
       "  <thead>\n",
       "    <tr style=\"text-align: right;\">\n",
       "      <th></th>\n",
       "      <th>alcol</th>\n",
       "      <th>flavonoidi</th>\n",
       "    </tr>\n",
       "  </thead>\n",
       "  <tbody>\n",
       "    <tr>\n",
       "      <th>1</th>\n",
       "      <td>14.23</td>\n",
       "      <td>3.06</td>\n",
       "    </tr>\n",
       "    <tr>\n",
       "      <th>2</th>\n",
       "      <td>13.2</td>\n",
       "      <td>2.76</td>\n",
       "    </tr>\n",
       "    <tr>\n",
       "      <th>3</th>\n",
       "      <td>13.16</td>\n",
       "      <td>3.24</td>\n",
       "    </tr>\n",
       "    <tr>\n",
       "      <th>4</th>\n",
       "      <td>14.37</td>\n",
       "      <td>3.49</td>\n",
       "    </tr>\n",
       "    <tr>\n",
       "      <th>5</th>\n",
       "      <td>13.24</td>\n",
       "      <td>2.69</td>\n",
       "    </tr>\n",
       "  </tbody>\n",
       "</table>\n",
       "</div>"
      ],
      "text/plain": [
       "   alcol flavonoidi\n",
       "1  14.23       3.06\n",
       "2   13.2       2.76\n",
       "3  13.16       3.24\n",
       "4  14.37       3.49\n",
       "5  13.24       2.69"
      ]
     },
     "execution_count": 28,
     "metadata": {},
     "output_type": "execute_result"
    }
   ],
   "source": [
    "to_norm.head()"
   ]
  },
  {
   "cell_type": "code",
   "execution_count": 29,
   "id": "0c5720f2-412a-40f4-a0df-c5d52f4d76e4",
   "metadata": {},
   "outputs": [
    {
     "data": {
      "text/plain": [
       "Index(['alcol', 'flavonoidi'], dtype='object')"
      ]
     },
     "execution_count": 29,
     "metadata": {},
     "output_type": "execute_result"
    }
   ],
   "source": [
    "to_norm.columns"
   ]
  },
  {
   "cell_type": "code",
   "execution_count": 30,
   "id": "c3625965-a0b2-4907-aae7-9877c01e81ae",
   "metadata": {},
   "outputs": [
    {
     "data": {
      "text/plain": [
       "alcol         11.03\n",
       "flavonoidi      .34\n",
       "dtype: object"
      ]
     },
     "execution_count": 30,
     "metadata": {},
     "output_type": "execute_result"
    }
   ],
   "source": [
    "to_norm.min()"
   ]
  },
  {
   "cell_type": "code",
   "execution_count": 31,
   "id": "0f031022-fbbb-4816-a1f2-13695839eacf",
   "metadata": {},
   "outputs": [
    {
     "data": {
      "text/plain": [
       "alcol         14.83\n",
       "flavonoidi     5.08\n",
       "dtype: object"
      ]
     },
     "execution_count": 31,
     "metadata": {},
     "output_type": "execute_result"
    }
   ],
   "source": [
    "to_norm.max()"
   ]
  },
  {
   "cell_type": "code",
   "execution_count": 32,
   "id": "d94cb253-7668-4d0b-a2ad-bf77f9e784b0",
   "metadata": {},
   "outputs": [
    {
     "data": {
      "text/plain": [
       "alcol         14.23\n",
       "flavonoidi     3.06\n",
       "Name: 1, dtype: object"
      ]
     },
     "execution_count": 32,
     "metadata": {},
     "output_type": "execute_result"
    }
   ],
   "source": [
    "to_norm.iloc[0]"
   ]
  },
  {
   "cell_type": "code",
   "execution_count": 33,
   "id": "85bcf9cd-61db-4477-a996-7bdfad58c987",
   "metadata": {},
   "outputs": [
    {
     "data": {
      "text/html": [
       "<div>\n",
       "<style scoped>\n",
       "    .dataframe tbody tr th:only-of-type {\n",
       "        vertical-align: middle;\n",
       "    }\n",
       "\n",
       "    .dataframe tbody tr th {\n",
       "        vertical-align: top;\n",
       "    }\n",
       "\n",
       "    .dataframe thead th {\n",
       "        text-align: right;\n",
       "    }\n",
       "</style>\n",
       "<table border=\"1\" class=\"dataframe\">\n",
       "  <thead>\n",
       "    <tr style=\"text-align: right;\">\n",
       "      <th></th>\n",
       "      <th>classe</th>\n",
       "      <th>alcol</th>\n",
       "      <th>flavonoidi</th>\n",
       "    </tr>\n",
       "  </thead>\n",
       "  <tbody>\n",
       "    <tr>\n",
       "      <th>0</th>\n",
       "      <td>Wine</td>\n",
       "      <td>Alcohol</td>\n",
       "      <td>Flavanoids</td>\n",
       "    </tr>\n",
       "    <tr>\n",
       "      <th>1</th>\n",
       "      <td>1</td>\n",
       "      <td>14.23</td>\n",
       "      <td>3.06</td>\n",
       "    </tr>\n",
       "    <tr>\n",
       "      <th>2</th>\n",
       "      <td>1</td>\n",
       "      <td>13.2</td>\n",
       "      <td>2.76</td>\n",
       "    </tr>\n",
       "    <tr>\n",
       "      <th>3</th>\n",
       "      <td>1</td>\n",
       "      <td>13.16</td>\n",
       "      <td>3.24</td>\n",
       "    </tr>\n",
       "    <tr>\n",
       "      <th>4</th>\n",
       "      <td>1</td>\n",
       "      <td>14.37</td>\n",
       "      <td>3.49</td>\n",
       "    </tr>\n",
       "  </tbody>\n",
       "</table>\n",
       "</div>"
      ],
      "text/plain": [
       "  classe    alcol  flavonoidi\n",
       "0   Wine  Alcohol  Flavanoids\n",
       "1      1    14.23        3.06\n",
       "2      1     13.2        2.76\n",
       "3      1    13.16        3.24\n",
       "4      1    14.37        3.49"
      ]
     },
     "execution_count": 33,
     "metadata": {},
     "output_type": "execute_result"
    }
   ],
   "source": [
    "wines_norm.head()"
   ]
  },
  {
   "cell_type": "code",
   "execution_count": 35,
   "id": "4954b28a-fefd-46b2-ba0c-2160380db016",
   "metadata": {},
   "outputs": [],
   "source": [
    "wines_norm = wines_norm.drop(0,axis=0)"
   ]
  },
  {
   "cell_type": "code",
   "execution_count": 36,
   "id": "f95e6cbe-e120-418f-8cdb-ba0cdbbb22c5",
   "metadata": {},
   "outputs": [
    {
     "data": {
      "text/html": [
       "<div>\n",
       "<style scoped>\n",
       "    .dataframe tbody tr th:only-of-type {\n",
       "        vertical-align: middle;\n",
       "    }\n",
       "\n",
       "    .dataframe tbody tr th {\n",
       "        vertical-align: top;\n",
       "    }\n",
       "\n",
       "    .dataframe thead th {\n",
       "        text-align: right;\n",
       "    }\n",
       "</style>\n",
       "<table border=\"1\" class=\"dataframe\">\n",
       "  <thead>\n",
       "    <tr style=\"text-align: right;\">\n",
       "      <th></th>\n",
       "      <th>classe</th>\n",
       "      <th>alcol</th>\n",
       "      <th>flavonoidi</th>\n",
       "    </tr>\n",
       "  </thead>\n",
       "  <tbody>\n",
       "    <tr>\n",
       "      <th>1</th>\n",
       "      <td>1</td>\n",
       "      <td>14.23</td>\n",
       "      <td>3.06</td>\n",
       "    </tr>\n",
       "    <tr>\n",
       "      <th>2</th>\n",
       "      <td>1</td>\n",
       "      <td>13.2</td>\n",
       "      <td>2.76</td>\n",
       "    </tr>\n",
       "    <tr>\n",
       "      <th>3</th>\n",
       "      <td>1</td>\n",
       "      <td>13.16</td>\n",
       "      <td>3.24</td>\n",
       "    </tr>\n",
       "    <tr>\n",
       "      <th>4</th>\n",
       "      <td>1</td>\n",
       "      <td>14.37</td>\n",
       "      <td>3.49</td>\n",
       "    </tr>\n",
       "    <tr>\n",
       "      <th>5</th>\n",
       "      <td>1</td>\n",
       "      <td>13.24</td>\n",
       "      <td>2.69</td>\n",
       "    </tr>\n",
       "  </tbody>\n",
       "</table>\n",
       "</div>"
      ],
      "text/plain": [
       "  classe  alcol flavonoidi\n",
       "1      1  14.23       3.06\n",
       "2      1   13.2       2.76\n",
       "3      1  13.16       3.24\n",
       "4      1  14.37       3.49\n",
       "5      1  13.24       2.69"
      ]
     },
     "execution_count": 36,
     "metadata": {},
     "output_type": "execute_result"
    }
   ],
   "source": [
    "wines_norm.head()"
   ]
  },
  {
   "cell_type": "code",
   "execution_count": 38,
   "id": "1d7d43bc-a8bf-48c7-aa65-c7e71d1dfb40",
   "metadata": {},
   "outputs": [
    {
     "data": {
      "text/html": [
       "<div>\n",
       "<style scoped>\n",
       "    .dataframe tbody tr th:only-of-type {\n",
       "        vertical-align: middle;\n",
       "    }\n",
       "\n",
       "    .dataframe tbody tr th {\n",
       "        vertical-align: top;\n",
       "    }\n",
       "\n",
       "    .dataframe thead th {\n",
       "        text-align: right;\n",
       "    }\n",
       "</style>\n",
       "<table border=\"1\" class=\"dataframe\">\n",
       "  <thead>\n",
       "    <tr style=\"text-align: right;\">\n",
       "      <th></th>\n",
       "      <th>alcol</th>\n",
       "      <th>flavonoidi</th>\n",
       "    </tr>\n",
       "  </thead>\n",
       "  <tbody>\n",
       "    <tr>\n",
       "      <th>1</th>\n",
       "      <td>14.23</td>\n",
       "      <td>3.06</td>\n",
       "    </tr>\n",
       "    <tr>\n",
       "      <th>2</th>\n",
       "      <td>13.2</td>\n",
       "      <td>2.76</td>\n",
       "    </tr>\n",
       "    <tr>\n",
       "      <th>3</th>\n",
       "      <td>13.16</td>\n",
       "      <td>3.24</td>\n",
       "    </tr>\n",
       "    <tr>\n",
       "      <th>4</th>\n",
       "      <td>14.37</td>\n",
       "      <td>3.49</td>\n",
       "    </tr>\n",
       "    <tr>\n",
       "      <th>5</th>\n",
       "      <td>13.24</td>\n",
       "      <td>2.69</td>\n",
       "    </tr>\n",
       "  </tbody>\n",
       "</table>\n",
       "</div>"
      ],
      "text/plain": [
       "   alcol flavonoidi\n",
       "1  14.23       3.06\n",
       "2   13.2       2.76\n",
       "3  13.16       3.24\n",
       "4  14.37       3.49\n",
       "5  13.24       2.69"
      ]
     },
     "execution_count": 38,
     "metadata": {},
     "output_type": "execute_result"
    }
   ],
   "source": [
    "to_norm.head()"
   ]
  },
  {
   "cell_type": "code",
   "execution_count": 39,
   "id": "ff7afcdf-530d-43c5-9b0c-232f091b1789",
   "metadata": {},
   "outputs": [
    {
     "data": {
      "text/html": [
       "<div>\n",
       "<style scoped>\n",
       "    .dataframe tbody tr th:only-of-type {\n",
       "        vertical-align: middle;\n",
       "    }\n",
       "\n",
       "    .dataframe tbody tr th {\n",
       "        vertical-align: top;\n",
       "    }\n",
       "\n",
       "    .dataframe thead th {\n",
       "        text-align: right;\n",
       "    }\n",
       "</style>\n",
       "<table border=\"1\" class=\"dataframe\">\n",
       "  <thead>\n",
       "    <tr style=\"text-align: right;\">\n",
       "      <th></th>\n",
       "      <th>alcol</th>\n",
       "      <th>flavonoidi</th>\n",
       "    </tr>\n",
       "  </thead>\n",
       "  <tbody>\n",
       "    <tr>\n",
       "      <th>count</th>\n",
       "      <td>178</td>\n",
       "      <td>178</td>\n",
       "    </tr>\n",
       "    <tr>\n",
       "      <th>unique</th>\n",
       "      <td>126</td>\n",
       "      <td>132</td>\n",
       "    </tr>\n",
       "    <tr>\n",
       "      <th>top</th>\n",
       "      <td>13.05</td>\n",
       "      <td>2.65</td>\n",
       "    </tr>\n",
       "    <tr>\n",
       "      <th>freq</th>\n",
       "      <td>6</td>\n",
       "      <td>4</td>\n",
       "    </tr>\n",
       "  </tbody>\n",
       "</table>\n",
       "</div>"
      ],
      "text/plain": [
       "        alcol flavonoidi\n",
       "count     178        178\n",
       "unique    126        132\n",
       "top     13.05       2.65\n",
       "freq        6          4"
      ]
     },
     "execution_count": 39,
     "metadata": {},
     "output_type": "execute_result"
    }
   ],
   "source": [
    "to_norm.describe()"
   ]
  },
  {
   "cell_type": "code",
   "execution_count": 40,
   "id": "0d022a06-48d8-4e75-bbb1-883e39cb232f",
   "metadata": {},
   "outputs": [
    {
     "data": {
      "text/plain": [
       "alcol         11.03\n",
       "flavonoidi      .34\n",
       "dtype: object"
      ]
     },
     "execution_count": 40,
     "metadata": {},
     "output_type": "execute_result"
    }
   ],
   "source": [
    "to_norm.min()"
   ]
  },
  {
   "cell_type": "code",
   "execution_count": 41,
   "id": "e438a850-44c7-433a-b72a-f16b0374a4ca",
   "metadata": {},
   "outputs": [
    {
     "data": {
      "text/plain": [
       "alcol         14.83\n",
       "flavonoidi     5.08\n",
       "dtype: object"
      ]
     },
     "execution_count": 41,
     "metadata": {},
     "output_type": "execute_result"
    }
   ],
   "source": [
    "to_norm.max()"
   ]
  },
  {
   "cell_type": "code",
   "execution_count": 42,
   "id": "2a0b23a3-cf39-49de-8060-802bfb428da4",
   "metadata": {},
   "outputs": [
    {
     "data": {
      "text/html": [
       "<div>\n",
       "<style scoped>\n",
       "    .dataframe tbody tr th:only-of-type {\n",
       "        vertical-align: middle;\n",
       "    }\n",
       "\n",
       "    .dataframe tbody tr th {\n",
       "        vertical-align: top;\n",
       "    }\n",
       "\n",
       "    .dataframe thead th {\n",
       "        text-align: right;\n",
       "    }\n",
       "</style>\n",
       "<table border=\"1\" class=\"dataframe\">\n",
       "  <thead>\n",
       "    <tr style=\"text-align: right;\">\n",
       "      <th></th>\n",
       "      <th>alcol</th>\n",
       "      <th>flavonoidi</th>\n",
       "    </tr>\n",
       "  </thead>\n",
       "  <tbody>\n",
       "    <tr>\n",
       "      <th>1</th>\n",
       "      <td>14.23</td>\n",
       "      <td>3.06</td>\n",
       "    </tr>\n",
       "    <tr>\n",
       "      <th>2</th>\n",
       "      <td>13.2</td>\n",
       "      <td>2.76</td>\n",
       "    </tr>\n",
       "    <tr>\n",
       "      <th>3</th>\n",
       "      <td>13.16</td>\n",
       "      <td>3.24</td>\n",
       "    </tr>\n",
       "    <tr>\n",
       "      <th>4</th>\n",
       "      <td>14.37</td>\n",
       "      <td>3.49</td>\n",
       "    </tr>\n",
       "    <tr>\n",
       "      <th>5</th>\n",
       "      <td>13.24</td>\n",
       "      <td>2.69</td>\n",
       "    </tr>\n",
       "    <tr>\n",
       "      <th>...</th>\n",
       "      <td>...</td>\n",
       "      <td>...</td>\n",
       "    </tr>\n",
       "    <tr>\n",
       "      <th>174</th>\n",
       "      <td>13.71</td>\n",
       "      <td>.61</td>\n",
       "    </tr>\n",
       "    <tr>\n",
       "      <th>175</th>\n",
       "      <td>13.4</td>\n",
       "      <td>.75</td>\n",
       "    </tr>\n",
       "    <tr>\n",
       "      <th>176</th>\n",
       "      <td>13.27</td>\n",
       "      <td>.69</td>\n",
       "    </tr>\n",
       "    <tr>\n",
       "      <th>177</th>\n",
       "      <td>13.17</td>\n",
       "      <td>.68</td>\n",
       "    </tr>\n",
       "    <tr>\n",
       "      <th>178</th>\n",
       "      <td>14.13</td>\n",
       "      <td>.76</td>\n",
       "    </tr>\n",
       "  </tbody>\n",
       "</table>\n",
       "<p>178 rows × 2 columns</p>\n",
       "</div>"
      ],
      "text/plain": [
       "     alcol flavonoidi\n",
       "1    14.23       3.06\n",
       "2     13.2       2.76\n",
       "3    13.16       3.24\n",
       "4    14.37       3.49\n",
       "5    13.24       2.69\n",
       "..     ...        ...\n",
       "174  13.71        .61\n",
       "175   13.4        .75\n",
       "176  13.27        .69\n",
       "177  13.17        .68\n",
       "178  14.13        .76\n",
       "\n",
       "[178 rows x 2 columns]"
      ]
     },
     "execution_count": 42,
     "metadata": {},
     "output_type": "execute_result"
    }
   ],
   "source": [
    "to_norm"
   ]
  },
  {
   "cell_type": "code",
   "execution_count": 43,
   "id": "88780719-eac4-45d7-82df-25b2cf555b05",
   "metadata": {},
   "outputs": [
    {
     "data": {
      "text/plain": [
       "Index(['alcol', 'flavonoidi'], dtype='object')"
      ]
     },
     "execution_count": 43,
     "metadata": {},
     "output_type": "execute_result"
    }
   ],
   "source": [
    "to_norm.columns"
   ]
  },
  {
   "cell_type": "code",
   "execution_count": 44,
   "id": "38743b77-a461-40e4-84dd-85b772b09f42",
   "metadata": {},
   "outputs": [],
   "source": [
    "wines = pd.read_csv(\"https://archive.ics.uci.edu/ml/machine-learning-databases/wine/wine.data\", names=['class','alcol','flavonoidi'], \n",
    "                    usecols=[0,1,7])"
   ]
  },
  {
   "cell_type": "code",
   "execution_count": 45,
   "id": "471e2170-4fff-4b4d-8cb9-c77829e18a67",
   "metadata": {},
   "outputs": [],
   "source": [
    "wines_norm = wines.copy()"
   ]
  },
  {
   "cell_type": "code",
   "execution_count": 46,
   "id": "66297005-4bce-48e3-9466-29cd3382a8d1",
   "metadata": {},
   "outputs": [],
   "source": [
    "features = [\"alcol\",\"flavonoidi\"]"
   ]
  },
  {
   "cell_type": "code",
   "execution_count": 47,
   "id": "8fd2f72f-ce76-4eef-b87f-fffe5fc91cd9",
   "metadata": {},
   "outputs": [],
   "source": [
    "to_norm = wines_norm[features]"
   ]
  },
  {
   "cell_type": "code",
   "execution_count": 48,
   "id": "4ad41c56-33d0-46fd-a45a-49858205d3b9",
   "metadata": {},
   "outputs": [],
   "source": [
    "wines_norm[features] = (to_norm-to_norm.min())/(to_norm.max()-to_norm.min())"
   ]
  },
  {
   "cell_type": "code",
   "execution_count": 49,
   "id": "a54588d2-671f-4dde-b9f1-e4e78626690d",
   "metadata": {},
   "outputs": [
    {
     "data": {
      "text/html": [
       "<div>\n",
       "<style scoped>\n",
       "    .dataframe tbody tr th:only-of-type {\n",
       "        vertical-align: middle;\n",
       "    }\n",
       "\n",
       "    .dataframe tbody tr th {\n",
       "        vertical-align: top;\n",
       "    }\n",
       "\n",
       "    .dataframe thead th {\n",
       "        text-align: right;\n",
       "    }\n",
       "</style>\n",
       "<table border=\"1\" class=\"dataframe\">\n",
       "  <thead>\n",
       "    <tr style=\"text-align: right;\">\n",
       "      <th></th>\n",
       "      <th>class</th>\n",
       "      <th>alcol</th>\n",
       "      <th>flavonoidi</th>\n",
       "    </tr>\n",
       "  </thead>\n",
       "  <tbody>\n",
       "    <tr>\n",
       "      <th>0</th>\n",
       "      <td>1</td>\n",
       "      <td>0.842105</td>\n",
       "      <td>0.573840</td>\n",
       "    </tr>\n",
       "    <tr>\n",
       "      <th>1</th>\n",
       "      <td>1</td>\n",
       "      <td>0.571053</td>\n",
       "      <td>0.510549</td>\n",
       "    </tr>\n",
       "    <tr>\n",
       "      <th>2</th>\n",
       "      <td>1</td>\n",
       "      <td>0.560526</td>\n",
       "      <td>0.611814</td>\n",
       "    </tr>\n",
       "    <tr>\n",
       "      <th>3</th>\n",
       "      <td>1</td>\n",
       "      <td>0.878947</td>\n",
       "      <td>0.664557</td>\n",
       "    </tr>\n",
       "    <tr>\n",
       "      <th>4</th>\n",
       "      <td>1</td>\n",
       "      <td>0.581579</td>\n",
       "      <td>0.495781</td>\n",
       "    </tr>\n",
       "  </tbody>\n",
       "</table>\n",
       "</div>"
      ],
      "text/plain": [
       "   class     alcol  flavonoidi\n",
       "0      1  0.842105    0.573840\n",
       "1      1  0.571053    0.510549\n",
       "2      1  0.560526    0.611814\n",
       "3      1  0.878947    0.664557\n",
       "4      1  0.581579    0.495781"
      ]
     },
     "execution_count": 49,
     "metadata": {},
     "output_type": "execute_result"
    }
   ],
   "source": [
    "wines_norm.head()"
   ]
  },
  {
   "cell_type": "code",
   "execution_count": 50,
   "id": "cf45cfa4-dfad-4b66-bddf-9d9af3ac79f4",
   "metadata": {},
   "outputs": [],
   "source": [
    "from sklearn.preprocessing import MinMaxScaler"
   ]
  },
  {
   "cell_type": "code",
   "execution_count": 51,
   "id": "72b5553a-043d-415c-a352-c334fcf94c27",
   "metadata": {},
   "outputs": [],
   "source": [
    "mms = MinMaxScaler()"
   ]
  },
  {
   "cell_type": "code",
   "execution_count": 59,
   "id": "d42d9d85-2bb5-4ca2-8fac-0c3dfe239722",
   "metadata": {},
   "outputs": [],
   "source": [
    "X = wines.drop(\"class\",axis=1).values"
   ]
  },
  {
   "cell_type": "code",
   "execution_count": 60,
   "id": "5ae4fe81-f631-4663-a003-31463086811d",
   "metadata": {},
   "outputs": [],
   "source": [
    "X_norm = mms.fit_transform(X)"
   ]
  },
  {
   "cell_type": "code",
   "execution_count": 61,
   "id": "65b9123b-ccd4-4476-8bb4-7cd5576d5391",
   "metadata": {},
   "outputs": [
    {
     "data": {
      "text/plain": [
       "array([[0.84210526, 0.57383966],\n",
       "       [0.57105263, 0.51054852],\n",
       "       [0.56052632, 0.61181435],\n",
       "       [0.87894737, 0.66455696],\n",
       "       [0.58157895, 0.49578059]])"
      ]
     },
     "execution_count": 61,
     "metadata": {},
     "output_type": "execute_result"
    }
   ],
   "source": [
    "X_norm[:5]"
   ]
  },
  {
   "cell_type": "code",
   "execution_count": 62,
   "id": "b108145c-eee2-4851-831d-0c28afd1cf3c",
   "metadata": {
    "scrolled": true
   },
   "outputs": [
    {
     "name": "stdout",
     "output_type": "stream",
     "text": [
      "[[14.23  3.06]\n",
      " [13.2   2.76]\n",
      " [13.16  3.24]\n",
      " [14.37  3.49]\n",
      " [13.24  2.69]\n",
      " [14.2   3.39]\n",
      " [14.39  2.52]\n",
      " [14.06  2.51]\n",
      " [14.83  2.98]\n",
      " [13.86  3.15]\n",
      " [14.1   3.32]\n",
      " [14.12  2.43]\n",
      " [13.75  2.76]\n",
      " [14.75  3.69]\n",
      " [14.38  3.64]\n",
      " [13.63  2.91]\n",
      " [14.3   3.14]\n",
      " [13.83  3.4 ]\n",
      " [14.19  3.93]\n",
      " [13.64  3.03]\n",
      " [14.06  3.17]\n",
      " [12.93  2.41]\n",
      " [13.71  2.88]\n",
      " [12.85  2.37]\n",
      " [13.5   2.61]\n",
      " [13.05  2.68]\n",
      " [13.39  2.94]\n",
      " [13.3   2.19]\n",
      " [13.87  2.97]\n",
      " [14.02  2.33]\n",
      " [13.73  3.25]\n",
      " [13.58  3.19]\n",
      " [13.68  2.69]\n",
      " [13.76  2.74]\n",
      " [13.51  2.53]\n",
      " [13.48  2.98]\n",
      " [13.28  2.68]\n",
      " [13.05  2.43]\n",
      " [13.07  2.64]\n",
      " [14.22  3.04]\n",
      " [13.56  3.29]\n",
      " [13.41  2.68]\n",
      " [13.88  3.56]\n",
      " [13.24  2.63]\n",
      " [13.05  3.  ]\n",
      " [14.21  2.65]\n",
      " [14.38  3.17]\n",
      " [13.9   3.39]\n",
      " [14.1   2.92]\n",
      " [13.94  3.54]\n",
      " [13.05  3.27]\n",
      " [13.83  2.99]\n",
      " [13.82  3.74]\n",
      " [13.77  2.79]\n",
      " [13.74  2.9 ]\n",
      " [13.56  2.78]\n",
      " [14.22  3.  ]\n",
      " [13.29  3.23]\n",
      " [13.72  3.67]\n",
      " [12.37  0.57]\n",
      " [12.33  1.09]\n",
      " [12.64  1.41]\n",
      " [13.67  1.79]\n",
      " [12.37  3.1 ]\n",
      " [12.17  1.75]\n",
      " [12.37  2.65]\n",
      " [13.11  3.18]\n",
      " [12.37  2.  ]\n",
      " [13.34  1.3 ]\n",
      " [12.21  1.28]\n",
      " [12.29  1.02]\n",
      " [13.86  2.86]\n",
      " [13.49  1.84]\n",
      " [12.99  2.89]\n",
      " [11.96  2.14]\n",
      " [11.66  1.57]\n",
      " [13.03  2.03]\n",
      " [11.84  1.32]\n",
      " [12.33  1.85]\n",
      " [12.7   2.55]\n",
      " [12.    2.26]\n",
      " [12.72  2.53]\n",
      " [12.08  1.58]\n",
      " [13.05  1.59]\n",
      " [11.84  2.21]\n",
      " [12.67  1.94]\n",
      " [12.16  1.69]\n",
      " [11.65  1.61]\n",
      " [11.64  1.69]\n",
      " [12.08  1.59]\n",
      " [12.08  1.5 ]\n",
      " [12.    1.25]\n",
      " [12.69  1.46]\n",
      " [12.29  2.25]\n",
      " [11.62  2.26]\n",
      " [12.47  2.27]\n",
      " [11.81  0.99]\n",
      " [12.29  2.5 ]\n",
      " [12.37  3.75]\n",
      " [12.29  2.99]\n",
      " [12.08  2.17]\n",
      " [12.6   1.36]\n",
      " [12.34  2.11]\n",
      " [11.82  1.64]\n",
      " [12.51  1.92]\n",
      " [12.42  1.84]\n",
      " [12.25  2.03]\n",
      " [12.72  1.76]\n",
      " [12.22  2.04]\n",
      " [11.61  2.92]\n",
      " [11.46  2.58]\n",
      " [12.52  2.27]\n",
      " [11.76  2.03]\n",
      " [11.41  2.01]\n",
      " [12.08  2.29]\n",
      " [11.03  2.17]\n",
      " [11.82  1.6 ]\n",
      " [12.42  2.09]\n",
      " [12.77  1.25]\n",
      " [12.    1.64]\n",
      " [11.45  2.79]\n",
      " [11.56  5.08]\n",
      " [12.42  2.13]\n",
      " [13.05  2.65]\n",
      " [11.87  3.03]\n",
      " [12.07  2.65]\n",
      " [12.43  3.15]\n",
      " [11.79  2.24]\n",
      " [12.37  2.45]\n",
      " [12.04  1.75]\n",
      " [12.86  1.25]\n",
      " [12.88  1.22]\n",
      " [12.81  1.09]\n",
      " [12.7   1.2 ]\n",
      " [12.51  0.58]\n",
      " [12.6   0.66]\n",
      " [12.25  0.47]\n",
      " [12.53  0.6 ]\n",
      " [13.49  0.48]\n",
      " [12.84  0.6 ]\n",
      " [12.93  0.5 ]\n",
      " [13.36  0.5 ]\n",
      " [13.52  0.52]\n",
      " [13.62  0.8 ]\n",
      " [12.25  0.78]\n",
      " [13.16  0.55]\n",
      " [13.88  0.34]\n",
      " [12.87  0.65]\n",
      " [13.32  0.76]\n",
      " [13.08  1.39]\n",
      " [13.5   1.57]\n",
      " [12.79  1.36]\n",
      " [13.11  1.28]\n",
      " [13.23  0.83]\n",
      " [12.58  0.58]\n",
      " [13.17  0.63]\n",
      " [13.84  0.83]\n",
      " [12.45  0.58]\n",
      " [14.34  1.31]\n",
      " [13.48  1.1 ]\n",
      " [12.36  0.92]\n",
      " [13.69  0.56]\n",
      " [12.85  0.6 ]\n",
      " [12.96  0.7 ]\n",
      " [13.78  0.68]\n",
      " [13.73  0.47]\n",
      " [13.45  0.92]\n",
      " [12.82  0.66]\n",
      " [13.58  0.84]\n",
      " [13.4   0.96]\n",
      " [12.2   0.49]\n",
      " [12.77  0.51]\n",
      " [14.16  0.7 ]\n",
      " [13.71  0.61]\n",
      " [13.4   0.75]\n",
      " [13.27  0.69]\n",
      " [13.17  0.68]\n",
      " [14.13  0.76]]\n"
     ]
    }
   ],
   "source": [
    "print(X)"
   ]
  },
  {
   "cell_type": "code",
   "execution_count": 64,
   "id": "631d778f-5fed-4277-a8f8-301cffdf188b",
   "metadata": {},
   "outputs": [
    {
     "data": {
      "text/html": [
       "<div>\n",
       "<style scoped>\n",
       "    .dataframe tbody tr th:only-of-type {\n",
       "        vertical-align: middle;\n",
       "    }\n",
       "\n",
       "    .dataframe tbody tr th {\n",
       "        vertical-align: top;\n",
       "    }\n",
       "\n",
       "    .dataframe thead th {\n",
       "        text-align: right;\n",
       "    }\n",
       "</style>\n",
       "<table border=\"1\" class=\"dataframe\">\n",
       "  <thead>\n",
       "    <tr style=\"text-align: right;\">\n",
       "      <th></th>\n",
       "      <th>class</th>\n",
       "      <th>alcol</th>\n",
       "      <th>flavonoidi</th>\n",
       "    </tr>\n",
       "  </thead>\n",
       "  <tbody>\n",
       "    <tr>\n",
       "      <th>0</th>\n",
       "      <td>1</td>\n",
       "      <td>14.23</td>\n",
       "      <td>3.06</td>\n",
       "    </tr>\n",
       "    <tr>\n",
       "      <th>1</th>\n",
       "      <td>1</td>\n",
       "      <td>13.20</td>\n",
       "      <td>2.76</td>\n",
       "    </tr>\n",
       "    <tr>\n",
       "      <th>2</th>\n",
       "      <td>1</td>\n",
       "      <td>13.16</td>\n",
       "      <td>3.24</td>\n",
       "    </tr>\n",
       "    <tr>\n",
       "      <th>3</th>\n",
       "      <td>1</td>\n",
       "      <td>14.37</td>\n",
       "      <td>3.49</td>\n",
       "    </tr>\n",
       "    <tr>\n",
       "      <th>4</th>\n",
       "      <td>1</td>\n",
       "      <td>13.24</td>\n",
       "      <td>2.69</td>\n",
       "    </tr>\n",
       "  </tbody>\n",
       "</table>\n",
       "</div>"
      ],
      "text/plain": [
       "   class  alcol  flavonoidi\n",
       "0      1  14.23        3.06\n",
       "1      1  13.20        2.76\n",
       "2      1  13.16        3.24\n",
       "3      1  14.37        3.49\n",
       "4      1  13.24        2.69"
      ]
     },
     "execution_count": 64,
     "metadata": {},
     "output_type": "execute_result"
    }
   ],
   "source": [
    "wines.head()"
   ]
  },
  {
   "cell_type": "code",
   "execution_count": 65,
   "id": "ec8bcc8e-a0ac-411d-aa58-934f4454bbcc",
   "metadata": {},
   "outputs": [],
   "source": [
    "test = wines.copy()"
   ]
  },
  {
   "cell_type": "code",
   "execution_count": 66,
   "id": "aee5ac47-5b54-4371-80e9-b6949b6df28a",
   "metadata": {},
   "outputs": [
    {
     "data": {
      "text/html": [
       "<div>\n",
       "<style scoped>\n",
       "    .dataframe tbody tr th:only-of-type {\n",
       "        vertical-align: middle;\n",
       "    }\n",
       "\n",
       "    .dataframe tbody tr th {\n",
       "        vertical-align: top;\n",
       "    }\n",
       "\n",
       "    .dataframe thead th {\n",
       "        text-align: right;\n",
       "    }\n",
       "</style>\n",
       "<table border=\"1\" class=\"dataframe\">\n",
       "  <thead>\n",
       "    <tr style=\"text-align: right;\">\n",
       "      <th></th>\n",
       "      <th>class</th>\n",
       "      <th>alcol</th>\n",
       "      <th>flavonoidi</th>\n",
       "    </tr>\n",
       "  </thead>\n",
       "  <tbody>\n",
       "    <tr>\n",
       "      <th>0</th>\n",
       "      <td>1</td>\n",
       "      <td>14.23</td>\n",
       "      <td>3.06</td>\n",
       "    </tr>\n",
       "    <tr>\n",
       "      <th>1</th>\n",
       "      <td>1</td>\n",
       "      <td>13.20</td>\n",
       "      <td>2.76</td>\n",
       "    </tr>\n",
       "    <tr>\n",
       "      <th>2</th>\n",
       "      <td>1</td>\n",
       "      <td>13.16</td>\n",
       "      <td>3.24</td>\n",
       "    </tr>\n",
       "    <tr>\n",
       "      <th>3</th>\n",
       "      <td>1</td>\n",
       "      <td>14.37</td>\n",
       "      <td>3.49</td>\n",
       "    </tr>\n",
       "    <tr>\n",
       "      <th>4</th>\n",
       "      <td>1</td>\n",
       "      <td>13.24</td>\n",
       "      <td>2.69</td>\n",
       "    </tr>\n",
       "  </tbody>\n",
       "</table>\n",
       "</div>"
      ],
      "text/plain": [
       "   class  alcol  flavonoidi\n",
       "0      1  14.23        3.06\n",
       "1      1  13.20        2.76\n",
       "2      1  13.16        3.24\n",
       "3      1  14.37        3.49\n",
       "4      1  13.24        2.69"
      ]
     },
     "execution_count": 66,
     "metadata": {},
     "output_type": "execute_result"
    }
   ],
   "source": [
    "test.head()"
   ]
  },
  {
   "cell_type": "code",
   "execution_count": null,
   "id": "aa78a74c-4dfd-4903-a50c-c77868139f68",
   "metadata": {},
   "outputs": [],
   "source": []
  }
 ],
 "metadata": {
  "kernelspec": {
   "display_name": "Python 3 (ipykernel)",
   "language": "python",
   "name": "python3"
  },
  "language_info": {
   "codemirror_mode": {
    "name": "ipython",
    "version": 3
   },
   "file_extension": ".py",
   "mimetype": "text/x-python",
   "name": "python",
   "nbconvert_exporter": "python",
   "pygments_lexer": "ipython3",
   "version": "3.13.3"
  }
 },
 "nbformat": 4,
 "nbformat_minor": 5
}
