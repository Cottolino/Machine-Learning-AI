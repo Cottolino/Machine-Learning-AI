{
 "cells": [
  {
   "cell_type": "code",
   "execution_count": 1,
   "id": "8e7967ed-8f87-497d-b349-9c43f6e9e594",
   "metadata": {},
   "outputs": [],
   "source": [
    "import pandas as pd"
   ]
  },
  {
   "cell_type": "code",
   "execution_count": 2,
   "id": "46b18db3-735c-4485-8d25-7dfdb219f740",
   "metadata": {},
   "outputs": [],
   "source": [
    "import numpy as np"
   ]
  },
  {
   "cell_type": "code",
   "execution_count": 3,
   "id": "3db075ea-69fd-4415-944f-75196ffcd05b",
   "metadata": {},
   "outputs": [],
   "source": [
    "iris = pd.read_csv(\"iris.csv\")"
   ]
  },
  {
   "cell_type": "code",
   "execution_count": 4,
   "id": "ef2b1b18-d5a7-409a-b00e-79f2307a9a36",
   "metadata": {},
   "outputs": [],
   "source": [
    "iris_nan = iris.copy()"
   ]
  },
  {
   "cell_type": "code",
   "execution_count": 5,
   "id": "790d8036-7cdd-4483-b09f-1fc3c2f67402",
   "metadata": {},
   "outputs": [],
   "source": [
    "max_val = iris.shape[0]"
   ]
  },
  {
   "cell_type": "code",
   "execution_count": 6,
   "id": "2d09be7b-96a4-436f-87ad-a086539dc8a9",
   "metadata": {},
   "outputs": [],
   "source": [
    "samples = np.random.randint(max_val, size=10)"
   ]
  },
  {
   "cell_type": "code",
   "execution_count": 7,
   "id": "02eeaf8f-8701-4fcc-bccd-467d68626fa8",
   "metadata": {},
   "outputs": [
    {
     "data": {
      "text/plain": [
       "Index(['sepal.length', 'sepal.width', 'petal.length', 'petal.width',\n",
       "       'variety'],\n",
       "      dtype='object')"
      ]
     },
     "execution_count": 7,
     "metadata": {},
     "output_type": "execute_result"
    }
   ],
   "source": [
    "iris.columns"
   ]
  },
  {
   "cell_type": "code",
   "execution_count": 8,
   "id": "04febd58-65d0-43a8-9553-3ace45a988cf",
   "metadata": {},
   "outputs": [],
   "source": [
    "iris_nan.loc[samples,'petal.length'] = None"
   ]
  },
  {
   "cell_type": "code",
   "execution_count": 9,
   "id": "1d970def-b99d-4836-a5b5-c03236c39795",
   "metadata": {},
   "outputs": [],
   "source": [
    "nan_count = iris_nan['petal.length'].isnull().sum()"
   ]
  },
  {
   "cell_type": "code",
   "execution_count": 10,
   "id": "ce04aaef-38b5-46cb-a28a-2bc6389fcb33",
   "metadata": {},
   "outputs": [
    {
     "name": "stdout",
     "output_type": "stream",
     "text": [
      "9\n"
     ]
    }
   ],
   "source": [
    "print(str(nan_count))"
   ]
  },
  {
   "cell_type": "code",
   "execution_count": 11,
   "id": "3bed8f0a-9017-45ed-bed8-01b4e54d5344",
   "metadata": {},
   "outputs": [],
   "source": [
    "iris_nan.to_csv(\"iris_nan.csv\")"
   ]
  },
  {
   "cell_type": "code",
   "execution_count": null,
   "id": "ef0e0e4a-b887-4b50-8e4f-060303766f8c",
   "metadata": {},
   "outputs": [],
   "source": []
  }
 ],
 "metadata": {
  "kernelspec": {
   "display_name": "Python 3 (ipykernel)",
   "language": "python",
   "name": "python3"
  },
  "language_info": {
   "codemirror_mode": {
    "name": "ipython",
    "version": 3
   },
   "file_extension": ".py",
   "mimetype": "text/x-python",
   "name": "python",
   "nbconvert_exporter": "python",
   "pygments_lexer": "ipython3",
   "version": "3.13.3"
  }
 },
 "nbformat": 4,
 "nbformat_minor": 5
}
