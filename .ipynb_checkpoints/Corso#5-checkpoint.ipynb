{
 "cells": [
  {
   "cell_type": "code",
   "execution_count": 1,
   "id": "7b7cbb0a-3a8f-4193-93b3-535d1be5b9a9",
   "metadata": {},
   "outputs": [],
   "source": [
    "import pandas as pd"
   ]
  },
  {
   "cell_type": "code",
   "execution_count": 2,
   "id": "8787c812-e46d-4504-abc8-ba78084c7ab3",
   "metadata": {},
   "outputs": [],
   "source": [
    "import numpy as np"
   ]
  },
  {
   "cell_type": "code",
   "execution_count": 3,
   "id": "600a14c5-8939-4d9b-80cf-0ae111053029",
   "metadata": {},
   "outputs": [],
   "source": [
    "from sklearn.preprocessing import MinMaxScaler"
   ]
  },
  {
   "cell_type": "code",
   "execution_count": 7,
   "id": "8ff96e07-b788-4294-9700-65b9593ffb92",
   "metadata": {},
   "outputs": [],
   "source": [
    "wines = pd.read_csv(\"https://archive.ics.uci.edu/ml/machine-learning-databases/wine/wine.data\", names=['class','alcol','flavonoidi'], \n",
    "                    usecols=[0,1,7])"
   ]
  },
  {
   "cell_type": "code",
   "execution_count": 8,
   "id": "536581bb-4710-4a05-ba60-71f86f58d612",
   "metadata": {},
   "outputs": [],
   "source": [
    "mms = MinMaxScaler()"
   ]
  },
  {
   "cell_type": "markdown",
   "id": "b516802c-cbeb-4b17-88ea-fc6c35f5ee6c",
   "metadata": {},
   "source": [
    "#### AXIS = 1 => Lavora sulle righe"
   ]
  },
  {
   "cell_type": "code",
   "execution_count": 13,
   "id": "1d7d74e9-e960-473a-ae59-0c1b5ae88e57",
   "metadata": {},
   "outputs": [],
   "source": [
    "X = wines.drop(\"class\",axis=1).values"
   ]
  },
  {
   "cell_type": "code",
   "execution_count": 14,
   "id": "705d5de8-176e-4cc6-880c-b10fdfa4911d",
   "metadata": {},
   "outputs": [],
   "source": [
    "X_norm = mms.fit_transform(X)"
   ]
  },
  {
   "cell_type": "code",
   "execution_count": 15,
   "id": "bec8f163-0583-4691-8f13-9445548896aa",
   "metadata": {},
   "outputs": [
    {
     "data": {
      "text/plain": [
       "array([[0.84210526, 0.57383966],\n",
       "       [0.57105263, 0.51054852],\n",
       "       [0.56052632, 0.61181435],\n",
       "       [0.87894737, 0.66455696],\n",
       "       [0.58157895, 0.49578059]])"
      ]
     },
     "execution_count": 15,
     "metadata": {},
     "output_type": "execute_result"
    }
   ],
   "source": [
    "X_norm[:5]"
   ]
  },
  {
   "cell_type": "code",
   "execution_count": 17,
   "id": "12302d8b-a66f-4623-8b4a-960d18fd7e6b",
   "metadata": {},
   "outputs": [],
   "source": [
    "test = wines.drop(\"alcol\",axis=1).values"
   ]
  },
  {
   "cell_type": "code",
   "execution_count": 20,
   "id": "de0de35b-4f6f-4b98-a85a-0ca658753392",
   "metadata": {},
   "outputs": [],
   "source": [
    "test = wines.drop([\"alcol\",\"flavonoidi\",\"class\"], axis=1).values"
   ]
  },
  {
   "cell_type": "code",
   "execution_count": 21,
   "id": "e540ddea-6f88-4dce-bb19-00ceb8184903",
   "metadata": {},
   "outputs": [
    {
     "name": "stdout",
     "output_type": "stream",
     "text": [
      "[]\n"
     ]
    }
   ],
   "source": [
    "print(test)"
   ]
  },
  {
   "cell_type": "code",
   "execution_count": 23,
   "id": "68c27eaa-877b-4179-807e-11a91da1a252",
   "metadata": {},
   "outputs": [
    {
     "data": {
      "text/plain": [
       "array([[0.84210526, 0.57383966],\n",
       "       [0.57105263, 0.51054852],\n",
       "       [0.56052632, 0.61181435],\n",
       "       [0.87894737, 0.66455696],\n",
       "       [0.58157895, 0.49578059],\n",
       "       [0.83421053, 0.64345992],\n",
       "       [0.88421053, 0.45991561],\n",
       "       [0.79736842, 0.45780591],\n",
       "       [1.        , 0.55696203],\n",
       "       [0.74473684, 0.592827  ]])"
      ]
     },
     "execution_count": 23,
     "metadata": {},
     "output_type": "execute_result"
    }
   ],
   "source": [
    "X_norm[:10]"
   ]
  },
  {
   "cell_type": "code",
   "execution_count": 27,
   "id": "ba4e8e79-5990-4ec2-a86f-33890f29b03e",
   "metadata": {},
   "outputs": [],
   "source": [
    "wines_std = wines.copy()"
   ]
  },
  {
   "cell_type": "code",
   "execution_count": 28,
   "id": "72ead5f3-7d20-469b-94fa-198d709f76b0",
   "metadata": {},
   "outputs": [
    {
     "data": {
      "text/html": [
       "<div>\n",
       "<style scoped>\n",
       "    .dataframe tbody tr th:only-of-type {\n",
       "        vertical-align: middle;\n",
       "    }\n",
       "\n",
       "    .dataframe tbody tr th {\n",
       "        vertical-align: top;\n",
       "    }\n",
       "\n",
       "    .dataframe thead th {\n",
       "        text-align: right;\n",
       "    }\n",
       "</style>\n",
       "<table border=\"1\" class=\"dataframe\">\n",
       "  <thead>\n",
       "    <tr style=\"text-align: right;\">\n",
       "      <th></th>\n",
       "      <th>class</th>\n",
       "      <th>alcol</th>\n",
       "      <th>flavonoidi</th>\n",
       "    </tr>\n",
       "  </thead>\n",
       "  <tbody>\n",
       "    <tr>\n",
       "      <th>0</th>\n",
       "      <td>1</td>\n",
       "      <td>14.23</td>\n",
       "      <td>3.06</td>\n",
       "    </tr>\n",
       "    <tr>\n",
       "      <th>1</th>\n",
       "      <td>1</td>\n",
       "      <td>13.20</td>\n",
       "      <td>2.76</td>\n",
       "    </tr>\n",
       "    <tr>\n",
       "      <th>2</th>\n",
       "      <td>1</td>\n",
       "      <td>13.16</td>\n",
       "      <td>3.24</td>\n",
       "    </tr>\n",
       "    <tr>\n",
       "      <th>3</th>\n",
       "      <td>1</td>\n",
       "      <td>14.37</td>\n",
       "      <td>3.49</td>\n",
       "    </tr>\n",
       "    <tr>\n",
       "      <th>4</th>\n",
       "      <td>1</td>\n",
       "      <td>13.24</td>\n",
       "      <td>2.69</td>\n",
       "    </tr>\n",
       "  </tbody>\n",
       "</table>\n",
       "</div>"
      ],
      "text/plain": [
       "   class  alcol  flavonoidi\n",
       "0      1  14.23        3.06\n",
       "1      1  13.20        2.76\n",
       "2      1  13.16        3.24\n",
       "3      1  14.37        3.49\n",
       "4      1  13.24        2.69"
      ]
     },
     "execution_count": 28,
     "metadata": {},
     "output_type": "execute_result"
    }
   ],
   "source": [
    "wines_std.head()"
   ]
  },
  {
   "cell_type": "code",
   "execution_count": 29,
   "id": "fd324dc6-28ef-46de-801c-c9dbeb4779d7",
   "metadata": {},
   "outputs": [],
   "source": [
    "features = [\"alcol\",\"flavonoidi\"]"
   ]
  },
  {
   "cell_type": "code",
   "execution_count": 30,
   "id": "9b9395ee-0cb6-4f01-b63f-c2072520367f",
   "metadata": {},
   "outputs": [],
   "source": [
    "to_std = wines_std[features]"
   ]
  },
  {
   "cell_type": "code",
   "execution_count": 31,
   "id": "14c133bb-f599-47cb-85b1-5163a7b6179d",
   "metadata": {},
   "outputs": [],
   "source": [
    "wines_std[features] = (to_std - to_std.mean()) / to_std.std()"
   ]
  },
  {
   "cell_type": "code",
   "execution_count": 32,
   "id": "4b2f5d9b-625c-4e78-8fdf-45e7f46837b6",
   "metadata": {},
   "outputs": [
    {
     "data": {
      "text/html": [
       "<div>\n",
       "<style scoped>\n",
       "    .dataframe tbody tr th:only-of-type {\n",
       "        vertical-align: middle;\n",
       "    }\n",
       "\n",
       "    .dataframe tbody tr th {\n",
       "        vertical-align: top;\n",
       "    }\n",
       "\n",
       "    .dataframe thead th {\n",
       "        text-align: right;\n",
       "    }\n",
       "</style>\n",
       "<table border=\"1\" class=\"dataframe\">\n",
       "  <thead>\n",
       "    <tr style=\"text-align: right;\">\n",
       "      <th></th>\n",
       "      <th>class</th>\n",
       "      <th>alcol</th>\n",
       "      <th>flavonoidi</th>\n",
       "    </tr>\n",
       "  </thead>\n",
       "  <tbody>\n",
       "    <tr>\n",
       "      <th>0</th>\n",
       "      <td>1</td>\n",
       "      <td>1.514341</td>\n",
       "      <td>1.031908</td>\n",
       "    </tr>\n",
       "    <tr>\n",
       "      <th>1</th>\n",
       "      <td>1</td>\n",
       "      <td>0.245597</td>\n",
       "      <td>0.731565</td>\n",
       "    </tr>\n",
       "    <tr>\n",
       "      <th>2</th>\n",
       "      <td>1</td>\n",
       "      <td>0.196325</td>\n",
       "      <td>1.212114</td>\n",
       "    </tr>\n",
       "    <tr>\n",
       "      <th>3</th>\n",
       "      <td>1</td>\n",
       "      <td>1.686791</td>\n",
       "      <td>1.462399</td>\n",
       "    </tr>\n",
       "    <tr>\n",
       "      <th>4</th>\n",
       "      <td>1</td>\n",
       "      <td>0.294868</td>\n",
       "      <td>0.661485</td>\n",
       "    </tr>\n",
       "  </tbody>\n",
       "</table>\n",
       "</div>"
      ],
      "text/plain": [
       "   class     alcol  flavonoidi\n",
       "0      1  1.514341    1.031908\n",
       "1      1  0.245597    0.731565\n",
       "2      1  0.196325    1.212114\n",
       "3      1  1.686791    1.462399\n",
       "4      1  0.294868    0.661485"
      ]
     },
     "execution_count": 32,
     "metadata": {},
     "output_type": "execute_result"
    }
   ],
   "source": [
    "wines_std[:5]"
   ]
  },
  {
   "cell_type": "code",
   "execution_count": 33,
   "id": "f568f62e-ff6b-4133-ac90-8a6f26bf0b36",
   "metadata": {},
   "outputs": [],
   "source": [
    "from sklearn.preprocessing import StandardScaler"
   ]
  },
  {
   "cell_type": "code",
   "execution_count": 34,
   "id": "e496d2df-968a-4af1-affe-0e9a64f2a8bf",
   "metadata": {},
   "outputs": [],
   "source": [
    "X_std = X.copy()"
   ]
  },
  {
   "cell_type": "code",
   "execution_count": 35,
   "id": "3b603c89-6361-40ba-8777-4afe2155af7c",
   "metadata": {},
   "outputs": [],
   "source": [
    "ss = StandardScaler()"
   ]
  },
  {
   "cell_type": "code",
   "execution_count": 36,
   "id": "58a212ee-da98-4400-a95f-cea92788c1dd",
   "metadata": {},
   "outputs": [],
   "source": [
    "X_std = ss.fit_transform(X_std)"
   ]
  },
  {
   "cell_type": "code",
   "execution_count": 37,
   "id": "50eff8e8-af1e-46c4-94fa-c294dcb6f75b",
   "metadata": {},
   "outputs": [
    {
     "data": {
      "text/plain": [
       "array([[1.51861254, 1.03481896],\n",
       "       [0.24628963, 0.73362894],\n",
       "       [0.19687903, 1.21553297],\n",
       "       [1.69154964, 1.46652465],\n",
       "       [0.29570023, 0.66335127]])"
      ]
     },
     "execution_count": 37,
     "metadata": {},
     "output_type": "execute_result"
    }
   ],
   "source": [
    "X_std[:5]"
   ]
  },
  {
   "cell_type": "code",
   "execution_count": null,
   "id": "b98d4597-c8eb-45fc-b8ed-c77ec261b254",
   "metadata": {},
   "outputs": [],
   "source": []
  }
 ],
 "metadata": {
  "kernelspec": {
   "display_name": "Python 3 (ipykernel)",
   "language": "python",
   "name": "python3"
  },
  "language_info": {
   "codemirror_mode": {
    "name": "ipython",
    "version": 3
   },
   "file_extension": ".py",
   "mimetype": "text/x-python",
   "name": "python",
   "nbconvert_exporter": "python",
   "pygments_lexer": "ipython3",
   "version": "3.13.3"
  }
 },
 "nbformat": 4,
 "nbformat_minor": 5
}
