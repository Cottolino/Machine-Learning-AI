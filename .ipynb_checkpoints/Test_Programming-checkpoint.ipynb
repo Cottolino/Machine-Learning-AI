{
 "cells": [
  {
   "cell_type": "code",
   "execution_count": 1,
   "id": "5843140c-0800-4003-8ee1-4dbe887168b1",
   "metadata": {},
   "outputs": [],
   "source": [
    "import numpy as np"
   ]
  },
  {
   "cell_type": "code",
   "execution_count": 2,
   "id": "b84ad1da-c6ac-4c5f-852c-495569c4a0f6",
   "metadata": {},
   "outputs": [],
   "source": [
    "v = np.array([3,7,8,1,5])"
   ]
  },
  {
   "cell_type": "code",
   "execution_count": 3,
   "id": "0f989d07-cce9-4771-98fd-a7a8ff81330f",
   "metadata": {},
   "outputs": [],
   "source": [
    "v = np.insert(v, 3, 300)"
   ]
  },
  {
   "cell_type": "code",
   "execution_count": 4,
   "id": "987319a0-1901-4b0f-a96d-d3ac30a09459",
   "metadata": {},
   "outputs": [
    {
     "data": {
      "text/plain": [
       "array([  3,   7,   8, 300,   1,   5])"
      ]
     },
     "execution_count": 4,
     "metadata": {},
     "output_type": "execute_result"
    }
   ],
   "source": [
    "v"
   ]
  },
  {
   "cell_type": "markdown",
   "id": "9b25f1e1-46a9-451f-9813-b9bad86626dc",
   "metadata": {},
   "source": [
    "#### Forma Vettorizzata"
   ]
  },
  {
   "cell_type": "code",
   "execution_count": 5,
   "id": "10883fe6-a5f2-4ee1-874e-5e12b28f850f",
   "metadata": {},
   "outputs": [
    {
     "data": {
      "text/plain": [
       "array([  4,   8,   9, 301,   2,   6])"
      ]
     },
     "execution_count": 5,
     "metadata": {},
     "output_type": "execute_result"
    }
   ],
   "source": [
    "v+1"
   ]
  },
  {
   "cell_type": "code",
   "execution_count": null,
   "id": "952d73f7-bc17-4deb-8058-99038adf6f5e",
   "metadata": {},
   "outputs": [],
   "source": []
  }
 ],
 "metadata": {
  "kernelspec": {
   "display_name": "Python 3 (ipykernel)",
   "language": "python",
   "name": "python3"
  },
  "language_info": {
   "codemirror_mode": {
    "name": "ipython",
    "version": 3
   },
   "file_extension": ".py",
   "mimetype": "text/x-python",
   "name": "python",
   "nbconvert_exporter": "python",
   "pygments_lexer": "ipython3",
   "version": "3.13.3"
  }
 },
 "nbformat": 4,
 "nbformat_minor": 5
}
